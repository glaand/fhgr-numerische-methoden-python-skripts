{
 "cells": [
  {
   "cell_type": "markdown",
   "id": "ffa486de",
   "metadata": {},
   "source": [
    "# CDS-404 Numerik Cheatsheet"
   ]
  },
  {
   "cell_type": "markdown",
   "id": "fe189fc8",
   "metadata": {},
   "source": [
    "*Leandro Gregorini*"
   ]
  },
  {
   "cell_type": "markdown",
   "id": "1748b837",
   "metadata": {},
   "source": [
    "## Table of Contents <a class=\"anchor\" id=\"TableofContents\"></a>\n",
    "Inhalte aus den Vorlesungen der Kurse: CDS-401, CDS-402 und CDS-404\n",
    "\n",
    "#### Allgemeines\n",
    "* [Table of Contents](#TableofContents)\n",
    "* [Imports](#Imports)\n",
    "* [Konstanten](#Konstanten)\n",
    "* [Dezimalstellen von Werten](#DezimalstellenvonWerten)\n",
    "    * [Wissenschaftliche Notation](#WissenschaftlicheNotation)\n",
    "    \n",
    "#### Analysis und Lineare Algebra\n",
    "* [Mathematische Ausdrücke](#MathematischeAusdrücke)\n",
    "    * [Standard-Ausdrücke](#Standard-Ausdrücke)\n",
    "    * [Grad und Bogenmass umrechnen](#GradundBogenmassumrechnen)\n",
    "    * [Pythagoras](#Pythagoras)\n",
    "    * [Elementare Algebra](#ElementareAlgebra)\n",
    "    * [Linearkombinationen (Vektoren)](#Linearkombinationen)\n",
    "    * [Eigenwerte und Eigenvektoren](#EigenwerteundEigenvektoren)\n",
    "    * [Vektorfelder](#Vektorfelder)\n",
    "    * [Matrizen](#Matrizen)\n",
    "    * [Differential](#Differential)\n",
    "    * [Integral](#Integral)\n",
    "    * [Komplexe Zahlen](#KomplexeZahlen)\n",
    "* [Plot für Funktionen mit zwei Variablen](#PlotfürFunktionenmitzweiVariablen)\n",
    "* [Parametrisierte Kurven und Flächen](#ParametrisierteKurvenFlächen)\n",
    "\n",
    "#### Numerik\n",
    "* [Standard-Plots](#Standard-Plots)\n",
    "    * [Basic Plot einer Funktion](#BasicPloteinerFunktion)\n",
    "    * [Plot einer trigonometrischer Funktion (modifizierte x Achse)](#PloteinertrigonometrischenFunktion)\n",
    "* [Heron-Verfahren](#Heron-Verfahren)\n",
    "    * [Heron-Verfahren: Visualisierung](#Heron-VerfahrenVisualisierung)\n",
    "    * [Heron-Verfahren: Numerisch](#Heron-VerfahrenNumerisch)\n",
    "* [Rekursive Folgen](#RekursiveFolgen)\n",
    "* [Interpolation](#Interpolation)\n",
    "    * [Interpolation gemäss Newton-Schema](#InterpolationgemässNewton-Schema)\n",
    "    * [Interpolation anhand von Library](#InterpolationanhandvonLibrary)\n",
    "* [Regression](#Regression)\n",
    "    * [Regression für Gerade](#RegressionfürGerade)\n",
    "    * [Exponentielle Regression](#ExponentielleRegression)\n",
    "* [Extrapolation](#Extrapolation)\n",
    "    * [Extrapolation gemäss Neville-Aitken-Schema](#ExtrapolationgemässNeville-Aitken-Schema)\n",
    "* [Numerische Integration](#NumerischeIntegration)\n",
    "    * [Trapez-Regel](#Trapez-Regel)\n",
    "    * [Trapez-Regel und Extrapolation](#Trapez-RegelundExtrapolation)\n",
    "    * [Simpson-Regel](#Simpson-Regel)\n",
    "* [Lineare Gleichungssysteme](#LineareGleichungssysteme)\n",
    "    * [Gauss-Verfahren](#Gauss-Verfahren)\n",
    "    * [Gauss-Jordan-Verfahren](#Gauss-Jordan-Verfahren)\n",
    "    * [LR-Zerlegungen von Matrizen](#LR-ZerlegungenvonMatrizen)\n",
    "    * [QR-Zerlegungen von Matrizen](#QR-ZerlegungenvonMatrizen)\n",
    "    * [Hilbert-LGLS](#Hilbert-LGLS)\n",
    "    * [LGLS iterativ lösen](#LGLSiterativlösen)"
   ]
  },
  {
   "cell_type": "markdown",
   "id": "f5041938",
   "metadata": {},
   "source": [
    "## Imports <a class=\"anchor\" id=\"Imports\"></a>"
   ]
  },
  {
   "cell_type": "code",
   "execution_count": 1,
   "id": "3ec77b85",
   "metadata": {},
   "outputs": [],
   "source": [
    "# Python initialisieren:\n",
    "import numpy as np;\n",
    "\n",
    "import sympy as sp;\n",
    "x,y,z = sp.symbols('x y z'); # Symbole für sympy initialisieren\n",
    "# from sympy import init_printing;\n",
    "# pretty printing;\n",
    "# init_printing();\n",
    "import IPython.display as dp;\n",
    "sp.init_printing();\n",
    "\n",
    "import scipy as cp;\n",
    "import scipy.interpolate as ip;\n",
    "import scipy.integrate as ig;\n",
    "import scipy.linalg;\n",
    "\n",
    "import matplotlib.pyplot as pl;\n",
    "%matplotlib inline\n",
    "#%matplotlib notebook\n",
    "#pd.options.mode.chained_assignment = None  # default='warn'\n",
    "\n",
    "import matplotlib as mpl;\n",
    "from matplotlib import rcParams;\n",
    "from mpl_toolkits import mplot3d;\n",
    "mpl.rc('axes', labelsize=12);\n",
    "mpl.rc('xtick', labelsize=10);\n",
    "mpl.rc('ytick', labelsize=10);\n",
    "mpl.rcParams[\"font.size\"]=10;\n",
    "mpl.rcParams[\"font.family\"]= \"sans-serif\";\n",
    "mpl.rcParams[\"text.usetex\"] = False;\n",
    "\n",
    "fig = 0; # Standard-Bezeichnung für figures"
   ]
  },
  {
   "cell_type": "markdown",
   "id": "d8fd3430",
   "metadata": {},
   "source": [
    "## Konstanten <a class=\"anchor\" id=\"Konstanten\"></a>"
   ]
  },
  {
   "cell_type": "code",
   "execution_count": 34,
   "id": "bf852986",
   "metadata": {},
   "outputs": [],
   "source": [
    "# Mathematische Konstanten:\n",
    "pi=3.141592653589793;\n",
    "eu=2.718281828459045;"
   ]
  },
  {
   "cell_type": "markdown",
   "id": "fe04640b",
   "metadata": {},
   "source": [
    "## Dezimalstellen von Werten <a class=\"anchor\" id=\"DezimalstellenvonWerten\"></a>"
   ]
  },
  {
   "cell_type": "code",
   "execution_count": 5,
   "id": "072a52aa",
   "metadata": {
    "scrolled": true
   },
   "outputs": [
    {
     "name": "stdout",
     "output_type": "stream",
     "text": [
      "x= 0.3333333333333333\n"
     ]
    }
   ],
   "source": [
    "# Berechnungen:\n",
    "x = 1/3 # Rechnung bzw. Ausdruck\n",
    "# Ausgabe:\n",
    "print(f\"x= {x:#.{16}g}\"); # 16 = Anzahl nachkommastellen -> pr (precision)"
   ]
  },
  {
   "cell_type": "markdown",
   "id": "4e90f25f",
   "metadata": {},
   "source": [
    "### Wissenschaftliche Notation <a class=\"anchor\" id=\"WissenschaftlicheNotation\"></a>"
   ]
  },
  {
   "cell_type": "code",
   "execution_count": 6,
   "id": "4e18914a",
   "metadata": {
    "scrolled": false
   },
   "outputs": [
    {
     "name": "stdout",
     "output_type": "stream",
     "text": [
      "x*10**12 = 3.333333e+11\n",
      "x*10**12 = 333333333333.3333129882812500\n"
     ]
    }
   ],
   "source": [
    "# Mit e Notation\n",
    "x = 1/3\n",
    "scientific_notation= \"{:e}\".format(x*10**12)\n",
    "print(\"x*10**12 =\", scientific_notation)\n",
    "\n",
    "# Ohne e Notation\n",
    "normal_notation = format(x*10**12, '.16f')\n",
    "print(\"x*10**12 =\", normal_notation)"
   ]
  },
  {
   "cell_type": "markdown",
   "id": "88bec8b0",
   "metadata": {},
   "source": [
    "---"
   ]
  },
  {
   "cell_type": "markdown",
   "id": "6d456fbe",
   "metadata": {},
   "source": [
    "## Mathematische Ausdrücke <a class=\"anchor\" id=\"MathematischeAusdrücke\"></a> [Back to top](#TableofContents)"
   ]
  },
  {
   "cell_type": "markdown",
   "id": "f9cb8f1d",
   "metadata": {},
   "source": [
    "### Standard-Ausdrücke <a class=\"anchor\" id=\"Standard-Ausdrücke\"></a>"
   ]
  },
  {
   "cell_type": "code",
   "execution_count": 159,
   "id": "5c24e227",
   "metadata": {},
   "outputs": [
    {
     "name": "stdout",
     "output_type": "stream",
     "text": [
      "x^3 = 27\n",
      "x^1/2 = 1.7320508075688772\n",
      "x^1/3 = 1.4422495703074083\n",
      "x * 10^12 = 3000000000000.0\n",
      "x * π = 9.42477796076938\n",
      "\n",
      "sin(5π/4) = -0.7071067811865475\n",
      "cos(5π/4) = -0.7071067811865477\n",
      "tan(77°)= 4.331475874284157\n",
      "cot(−3π/5) = 0.3249196962329063\n",
      "arccos(−0.45) = 2.037561665842193\n",
      "arctan(34.1) = 0.029317111023935784\n",
      "\n",
      "e = 2.718281828459045\n",
      "e^(−3.34) = 0.03543695772159864\n",
      "\n",
      "ln(13.2) = 2.580216829592325\n",
      "log10(23) = 1.3617278360175928\n",
      "log10(23) = 1.3617278360175928\n",
      "log2(4) = 2.0\n",
      "log2(4) = 2.0\n"
     ]
    }
   ],
   "source": [
    "x = 3\n",
    "print(\"x^3 =\", x**3)\n",
    "print(\"x^1/2 =\", np.sqrt(3))\n",
    "print(\"x^1/3 =\", 3**(1/3))\n",
    "print(\"x * 10^12 =\", 3e12)\n",
    "print(\"x * π =\", x*np.pi)\n",
    "print(\"\\nsin(5π/4) =\", np.sin(5*np.pi/4))\n",
    "print(\"cos(5π/4) =\", np.cos(5*np.pi/4))\n",
    "print(\"tan(77°)=\", np.tan(77*np.pi/180))\n",
    "print(\"cot(−3π/5) =\", 1/np.tan(-3*np.pi/5))\n",
    "print(\"arccos(−0.45) =\", np.arccos(-0.45))\n",
    "print(\"arctan(34.1) =\", np.arctan(1/34.1))\n",
    "print(\"\\ne =\", np.exp(1))\n",
    "print(\"e^(−3.34) =\", np.exp(-3.34))\n",
    "print(\"\\nln(13.2) =\", np.log(13.2))\n",
    "print(\"log10(23) =\", np.log(23)/np.log(10))\n",
    "print(\"log10(23) =\", np.log10(23))\n",
    "print(\"log2(4) =\", np.log(4)/np.log(2))\n",
    "print(\"log2(4) =\", np.log2(4))"
   ]
  },
  {
   "cell_type": "markdown",
   "id": "fae545f1",
   "metadata": {},
   "source": [
    "### Grad und Bogenmass umrechnen <a class=\"anchor\" id=\"GradundBogenmassumrechnen\"></a>"
   ]
  },
  {
   "cell_type": "code",
   "execution_count": 162,
   "id": "16742080",
   "metadata": {},
   "outputs": [
    {
     "name": "stdout",
     "output_type": "stream",
     "text": [
      "0.7853981633974483\n",
      "90.0\n"
     ]
    }
   ],
   "source": [
    "print(np.radians(45)) # Grad ins Bogenmass\n",
    "print(np.degrees(np.pi/2)) # Bogenmass ins Gradmass"
   ]
  },
  {
   "cell_type": "markdown",
   "id": "759be6b8",
   "metadata": {},
   "source": [
    "### Pythagoras <a class=\"anchor\" id=\"Pythagoras\"></a>"
   ]
  },
  {
   "cell_type": "code",
   "execution_count": 237,
   "id": "8071f8b9",
   "metadata": {},
   "outputs": [
    {
     "name": "stdout",
     "output_type": "stream",
     "text": [
      "Seite a = 3.00 m\n",
      "Seite b = 4.00 m\n",
      "Seite c = 5.00 m (Pythagoras)\n"
     ]
    }
   ],
   "source": [
    "# Parameter:\n",
    "ME='m';  # Masseinheit\n",
    "pr=3;    # Precision: Genauigkeit\n",
    "a=3.;\n",
    "b=4.;\n",
    "\n",
    "# Berechnungen:\n",
    "c=np.sqrt(a**2+b**2);\n",
    "\n",
    "# Ausgabe:\n",
    "print(f\"Seite a = {a:#.{pr}g} {ME}\");\n",
    "print(f\"Seite b = {b:#.{pr}g} {ME}\");\n",
    "print(f\"Seite c = {c:#.{pr}g} {ME} (Pythagoras)\");"
   ]
  },
  {
   "cell_type": "markdown",
   "id": "034a504b",
   "metadata": {},
   "source": [
    "### Elementare Algebra <a class=\"anchor\" id=\"ElementareAlgebra\"></a> [Back to top](#TableofContents)"
   ]
  },
  {
   "cell_type": "markdown",
   "id": "e4166c24",
   "metadata": {},
   "source": [
    "> Für eine \"schöne Ausgabe\" in der Konsole kann folgender Befehl verwendet werden dp.display(...);"
   ]
  },
  {
   "cell_type": "markdown",
   "id": "91a3f846",
   "metadata": {},
   "source": [
    "#### Ausmultiplizieren / Faktorisieren / Vereinfachen"
   ]
  },
  {
   "cell_type": "code",
   "execution_count": 83,
   "id": "cd75c21c",
   "metadata": {},
   "outputs": [
    {
     "name": "stdout",
     "output_type": "stream",
     "text": [
      "Ausdruck = x**3*(x**2 - 4)*(x**2 - 2*x - 15)\n",
      "a = x**7 - 2*x**6 - 19*x**5 + 8*x**4 + 60*x**3 \t(expand -> Vollständiges Ausmultiplizieren)\n",
      "b = x**3*(x - 5)*(x - 2)*(x + 2)*(x + 3) \t(factor -> Vollständiges Faktorisieren)\n",
      "c = -x**3*(x**2 - 4)*(-x**2 + 2*x + 15) \t(simplify -> Einfaches Vereinfachen)\n"
     ]
    }
   ],
   "source": [
    "ausdruck = x*x**2*(x**2-4)*(x**2-2*x-15)\n",
    "# Berechnungen :\n",
    "a = sp.expand(ausdruck);\n",
    "b = sp.factor(ausdruck);\n",
    "c = sp.simplify(ausdruck);\n",
    "# Ausgabe :\n",
    "print('Ausdruck =', ausdruck)\n",
    "print('a =', a, '\\t(expand -> Vollständiges Ausmultiplizieren)');\n",
    "print('b =', b, '\\t(factor -> Vollständiges Faktorisieren)');\n",
    "print('c =', c, '\\t(simplify -> Einfaches Vereinfachen)');"
   ]
  },
  {
   "cell_type": "markdown",
   "id": "8c8ad07d",
   "metadata": {},
   "source": [
    "#### Gleichungen lösen"
   ]
  },
  {
   "cell_type": "code",
   "execution_count": 223,
   "id": "935f961a",
   "metadata": {},
   "outputs": [
    {
     "name": "stdout",
     "output_type": "stream",
     "text": [
      "3*x+5-17 = 0\n",
      "L = [4]\n",
      "\n",
      "x**2+1 = 3*x-1\n",
      "L = [1, 2]\n"
     ]
    }
   ],
   "source": [
    "# Um Gleichungen zu lösen, muss soweit umgestellt werden, dass eine Seite der Gleichung 0 ist\n",
    "print('3*x+5-17 = 0')\n",
    "L = sp.solve(3*x+5-17, x); # L = Lösungsmenge\n",
    "print('L =', L);\n",
    "\n",
    "# Ohne Gleichung nach 0 umzustellen\n",
    "print('\\nx**2+1 = 3*x-1');\n",
    "L = sp.solve(sp.Eq(x**2+1, 3*x-1));\n",
    "print('L =', L);"
   ]
  },
  {
   "cell_type": "markdown",
   "id": "2ca8c0e2",
   "metadata": {},
   "source": [
    "#### Ungleichungen lösen"
   ]
  },
  {
   "cell_type": "code",
   "execution_count": 228,
   "id": "ec1305a9",
   "metadata": {},
   "outputs": [
    {
     "name": "stdout",
     "output_type": "stream",
     "text": [
      "x**2 - 8*x + 15 <= 2\n",
      "L = (x <= sqrt(3) + 4) & (4 - sqrt(3) <= x)\n"
     ]
    }
   ],
   "source": [
    "print('x**2 - 8*x + 15 <= 2');\n",
    "L = sp.solve(sp.Le(x**2 - 8*x + 15, 2));\n",
    "print('L =', L);"
   ]
  },
  {
   "cell_type": "markdown",
   "id": "f2536d09",
   "metadata": {},
   "source": [
    "#### Lineare Gleichungssysteme lösen"
   ]
  },
  {
   "cell_type": "markdown",
   "id": "ee8ca188",
   "metadata": {},
   "source": [
    "| a           | b |\n",
    "|-------------|---|\n",
    "| x + 2*y     | 1 |\n",
    "| 3*x + 5*y   | 2 |"
   ]
  },
  {
   "cell_type": "code",
   "execution_count": 229,
   "id": "62f6c58b",
   "metadata": {},
   "outputs": [
    {
     "name": "stdout",
     "output_type": "stream",
     "text": [
      "L = [-1.  1.]\n",
      "Konditionszahl = 38.974342094150515\n",
      "Lösung korrekt? True\n"
     ]
    }
   ],
   "source": [
    "# numpy\n",
    "a = np.array([[1, 2], [3, 5]]);\n",
    "b = np.array([1, 2]);\n",
    "L = np.linalg.solve(a,b); # Berechnet die Lösung des Gleichungssystems\n",
    "print('L =', L);\n",
    "print('Konditionszahl =',np.linalg.cond(a)); # Berechnet die Konditionszahl (Verstärkungsfaktor zwischen Fehlern)\n",
    "print('Lösung korrekt?', np.allclose(np.dot(a, L), b)); # Prüfen ob Lösung korrekt ist"
   ]
  },
  {
   "cell_type": "markdown",
   "id": "79685178",
   "metadata": {},
   "source": [
    "#### Stufenform berechnen"
   ]
  },
  {
   "cell_type": "code",
   "execution_count": 236,
   "id": "23e5a9e9",
   "metadata": {},
   "outputs": [
    {
     "data": {
      "text/latex": [
       "$\\displaystyle \\left[\\begin{matrix}1 & 0 & 1 & 3\\\\2 & 3 & 4 & 7\\\\-1 & -3 & -3 & -4\\end{matrix}\\right]$"
      ],
      "text/plain": [
       "Matrix([\n",
       "[ 1,  0,  1,  3],\n",
       "[ 2,  3,  4,  7],\n",
       "[-1, -3, -3, -4]])"
      ]
     },
     "metadata": {},
     "output_type": "display_data"
    },
    {
     "data": {
      "text/latex": [
       "$\\displaystyle \\left[\\begin{matrix}1 & 0 & 1 & 3\\\\0 & 1 & \\frac{2}{3} & \\frac{1}{3}\\\\0 & 0 & 0 & 0\\end{matrix}\\right]$"
      ],
      "text/plain": [
       "Matrix([\n",
       "[1, 0,   1,   3],\n",
       "[0, 1, 2/3, 1/3],\n",
       "[0, 0,   0,   0]])"
      ]
     },
     "metadata": {},
     "output_type": "display_data"
    }
   ],
   "source": [
    "M = sp.Matrix([[1, 0, 1, 3], [2, 3, 4, 7], [-1, -3, -3, -4]]);\n",
    "Stufenform = M.rref();\n",
    "dp.display(M, Stufenform[0])"
   ]
  },
  {
   "cell_type": "markdown",
   "id": "45e26a6c",
   "metadata": {},
   "source": [
    "#### Grenzwert einer Folge"
   ]
  },
  {
   "cell_type": "code",
   "execution_count": 187,
   "id": "8000972a",
   "metadata": {},
   "outputs": [
    {
     "data": {
      "text/latex": [
       "$\\displaystyle 1$"
      ],
      "text/plain": [
       "1"
      ]
     },
     "execution_count": 187,
     "metadata": {},
     "output_type": "execute_result"
    }
   ],
   "source": [
    "n = sp.symbols('n')\n",
    "sp.limit_seq((n+2)/(n+2),n)"
   ]
  },
  {
   "cell_type": "markdown",
   "id": "24ecd5d3",
   "metadata": {},
   "source": [
    "#### Berechnung einer Summe"
   ]
  },
  {
   "cell_type": "code",
   "execution_count": 188,
   "id": "ac727ee4",
   "metadata": {},
   "outputs": [
    {
     "data": {
      "text/latex": [
       "$\\displaystyle 55$"
      ],
      "text/plain": [
       "55"
      ]
     },
     "execution_count": 188,
     "metadata": {},
     "output_type": "execute_result"
    }
   ],
   "source": [
    "# sp.summation(Argument,(Laufvariable,Anfangswert,Endwert)\n",
    "sp.summation(n**2,(n,1,5))"
   ]
  },
  {
   "cell_type": "markdown",
   "id": "8c4012d4",
   "metadata": {},
   "source": [
    "### Linearkombinationen (Vektoren) <a class=\"anchor\" id=\"Linearkombinationen\"></a> [Back to top](#TableofContents)"
   ]
  },
  {
   "cell_type": "markdown",
   "id": "2dcec6f8",
   "metadata": {},
   "source": [
    "#### Berechnungen mit Vektoren"
   ]
  },
  {
   "cell_type": "code",
   "execution_count": 199,
   "id": "2937963d",
   "metadata": {},
   "outputs": [
    {
     "name": "stdout",
     "output_type": "stream",
     "text": [
      "u = [ 2 -1]\n",
      "v = [-3  3]\n",
      "w = [1.  0.5] \n",
      "\n",
      "r = u + v = [-1  2]\n",
      "r = 4*w = [4. 2.]\n",
      "r = 2*(v+3*w) = [0. 9.]\n",
      "\n",
      "Betrag von u = sqrt(5) | Betrag von v = 3*sqrt(2) | Betrag von w = 1.11803398874989\n"
     ]
    },
    {
     "data": {
      "text/latex": [
       "$\\displaystyle \\left[\\begin{matrix}-1\\\\2\\end{matrix}\\right]$"
      ],
      "text/plain": [
       "Matrix([\n",
       "[-1],\n",
       "[ 2]])"
      ]
     },
     "metadata": {},
     "output_type": "display_data"
    },
    {
     "data": {
      "text/latex": [
       "$\\displaystyle \\left[\\begin{matrix}4\\\\2.0\\end{matrix}\\right]$"
      ],
      "text/plain": [
       "Matrix([\n",
       "[  4],\n",
       "[2.0]])"
      ]
     },
     "metadata": {},
     "output_type": "display_data"
    },
    {
     "data": {
      "text/latex": [
       "$\\displaystyle \\left[\\begin{matrix}0\\\\9.0\\end{matrix}\\right]$"
      ],
      "text/plain": [
       "Matrix([\n",
       "[  0],\n",
       "[9.0]])"
      ]
     },
     "metadata": {},
     "output_type": "display_data"
    }
   ],
   "source": [
    "# Numpy\n",
    "# Parameter :\n",
    "u = np.array([2 , -1]);\n",
    "v = np.array([ -3 ,3]);\n",
    "w = np.array([1 ,1/2]);\n",
    "\n",
    "print('u =', u)\n",
    "print('v =', v)\n",
    "print('w =', w, '\\n')\n",
    "\n",
    "r = u + v;\n",
    "print('r = u + v =', r);\n",
    "\n",
    "r = 4*w;\n",
    "print('r = 4*w =', r);\n",
    "\n",
    "r = 2*(v+3*w);\n",
    "print('r = 2*(v+3*w) =', r);\n",
    "\n",
    "# Sympy\n",
    "# Parameter :\n",
    "u = sp.Matrix([[2], [-1]]);\n",
    "v = sp.Matrix([[-3], [3]]);\n",
    "w = sp.Matrix([[1], [1/2]]);\n",
    "\n",
    "u_betrag = u.norm(); v_betrag = v.norm(); w_betrag = w.norm();\n",
    "print('\\nBetrag von u =', u_betrag, '| Betrag von v =', v_betrag, '| Betrag von w =', w_betrag);\n",
    "\n",
    "r = u + v;\n",
    "dp.display(r);\n",
    "\n",
    "r = 4*w;\n",
    "dp.display(r);\n",
    "\n",
    "r = 2*(v+3*w);\n",
    "dp.display(r);"
   ]
  },
  {
   "cell_type": "markdown",
   "id": "f1d422e1",
   "metadata": {},
   "source": [
    "#### Gram-Riemann-Skalar-Produkte"
   ]
  },
  {
   "cell_type": "code",
   "execution_count": 190,
   "id": "ad4ca1f4",
   "metadata": {},
   "outputs": [
    {
     "name": "stdout",
     "output_type": "stream",
     "text": [
      "p =  11.000\n"
     ]
    },
    {
     "data": {
      "text/latex": [
       "$\\displaystyle 11$"
      ],
      "text/plain": [
       "11"
      ]
     },
     "metadata": {},
     "output_type": "display_data"
    }
   ],
   "source": [
    "# Numpy\n",
    "# Parameter :\n",
    "v = np.array([1 ,2]);\n",
    "w = np.array([3 ,4]);\n",
    "# Berechnungen :\n",
    "p = np.dot(v,w);\n",
    "# Ausgabe :\n",
    "print('p = ',\"%0.3f\"%(p));\n",
    "\n",
    "# Sympy\n",
    "# Parameter :\n",
    "v = sp.Matrix([[1],[2]]);\n",
    "w = sp.Matrix([[3],[4]]);\n",
    "# Berechnungen :\n",
    "p = sp.simplify(v.dot(w));\n",
    "p = v.dot(w)\n",
    "# Ausgabe :\n",
    "dp.display(p);"
   ]
  },
  {
   "cell_type": "markdown",
   "id": "1e280853",
   "metadata": {},
   "source": [
    "####  Grassmann-Vektor-Produkt"
   ]
  },
  {
   "cell_type": "code",
   "execution_count": 139,
   "id": "96e0bf93",
   "metadata": {},
   "outputs": [
    {
     "name": "stdout",
     "output_type": "stream",
     "text": [
      "v = [1 2 3]\n",
      "w = [4 5 6]\n",
      "u = v x w = [-3  6 -3]\n"
     ]
    },
    {
     "data": {
      "text/latex": [
       "$\\displaystyle \\left[\\begin{matrix}-3\\\\6\\\\-3\\end{matrix}\\right]$"
      ],
      "text/plain": [
       "Matrix([\n",
       "[-3],\n",
       "[ 6],\n",
       "[-3]])"
      ]
     },
     "metadata": {},
     "output_type": "display_data"
    }
   ],
   "source": [
    "# Numpy\n",
    "# Parameter :\n",
    "v = np.array([1 ,2 ,3]);\n",
    "w = np.array([4 ,5 ,6]);\n",
    "# Berechnungen :\n",
    "u = np.cross(v,w);\n",
    "# Ausgabe :\n",
    "print('v =', v)\n",
    "print('w =', w)\n",
    "print('u = v x w =', u)\n",
    "\n",
    "# Sympy\n",
    "# Parameter :\n",
    "v = sp.Matrix([[1],[2],[3]]);\n",
    "w = sp.Matrix([[4],[5],[6]]);\n",
    "# Berechnungen :\n",
    "u = v.cross(w);\n",
    "# Ausgabe :\n",
    "dp.display(u);"
   ]
  },
  {
   "cell_type": "markdown",
   "id": "38819688",
   "metadata": {},
   "source": [
    "#### Seiten und Winkel in Dreiecken"
   ]
  },
  {
   "cell_type": "code",
   "execution_count": 121,
   "id": "7b64c844",
   "metadata": {},
   "outputs": [
    {
     "name": "stdout",
     "output_type": "stream",
     "text": [
      "--------------------------------------------------\n",
      "A = [2 0] | B = [1 2] | C = [-1 -1]\n",
      "--------------------------------------------------\n",
      "Seiten :\n",
      "a =  3.61\n",
      "b =  3.16\n",
      "c =  2.24\n",
      "\n",
      "Innenwinkel :\n",
      "alpha =   0.455 pi\n",
      "beta =   0.335 pi\n",
      "gamma =   0.210 pi\n",
      "-------------------------------------------------- \n"
     ]
    }
   ],
   "source": [
    "# Parameter :\n",
    "A = np.array([2 ,0]); B = np.array([1 ,2]); C = np.array([-1, -1]); # Eckpunkte als Ortsvektoren\n",
    "# Funktionen :\n",
    "def Laenge(v): l =np.sqrt(np.dot(v,v)); return l;\n",
    "def Winkel(v,w):\n",
    "    phi= np.arccos(np.dot(v,w)/(Laenge(v)*Laenge(w))); return phi;\n",
    "# Seitenvektoren :\n",
    "a = C - B; b = A - C; c = B - A;\n",
    "# Seitenlaengen :\n",
    "l_a = Laenge(a); l_b = Laenge(b); l_c = Laenge(c);\n",
    "# Innenwinkel :\n",
    "w_a = Winkel(-b,c); w_b = Winkel(-c,a); w_c = Winkel(-a,b);\n",
    "# Ausgabe :\n",
    "print ('--------------------------------------------------');\n",
    "print('A =', A, '| B =', B, '| C =', C)\n",
    "print ('--------------------------------------------------');\n",
    "print ('Seiten :');\n",
    "print ('a =',\" %0.2f\"%(l_a));\n",
    "print ('b =',\" %0.2f\"%(l_b));\n",
    "print ('c =',\" %0.2f\"%(l_c));\n",
    "print ('\\nInnenwinkel :');\n",
    "print ('alpha = ',\" %0.3f\"%( w_a / np.pi ),'pi');\n",
    "print ('beta = ',\" %0.3f\"%( w_b / np.pi ),'pi');\n",
    "print ('gamma = ',\" %0.3f\"%( w_c / np.pi ),'pi');\n",
    "print ('-------------------------------------------------- ');"
   ]
  },
  {
   "cell_type": "markdown",
   "id": "a6d628d5",
   "metadata": {},
   "source": [
    "#### Orthogonal-Projektion"
   ]
  },
  {
   "cell_type": "markdown",
   "id": "ccdf9a51",
   "metadata": {},
   "source": [
    "> Bei der orthogonalen Projektion handelt es sich um eine sogenannte Abbildung.\n",
    "\n",
    "> Orthogonalprojektion: Vektor v wird auf Vektor w projiziert und in v(senkrecht) und\n",
    "v(parallel) zerlegt"
   ]
  },
  {
   "cell_type": "code",
   "execution_count": 163,
   "id": "82bf1e04",
   "metadata": {},
   "outputs": [
    {
     "name": "stdout",
     "output_type": "stream",
     "text": [
      "v =  [2 3]\n",
      "w =  [6 0]\n",
      "v_s =  [0. 3.]\n",
      "v_p =  [2. 0.]\n"
     ]
    }
   ],
   "source": [
    "# Parameter :\n",
    "v = np.array([2,3]); w = np.array([6,0]);\n",
    "# Funktionen :\n",
    "def OrtProj(v,w): u=np.dot(v,w) / np.dot(w,w)*w; return u;\n",
    "# Berechnungen :\n",
    "v_p= OrtProj(v,w);\n",
    "v_s =v - v_p;\n",
    "# Ausgabe :\n",
    "print ('v = ', v);\n",
    "print ('w = ', w);\n",
    "print ('v_s = ', v_s);\n",
    "print ('v_p = ', v_p);"
   ]
  },
  {
   "cell_type": "markdown",
   "id": "6545bf00",
   "metadata": {},
   "source": [
    "### Eigenwerte und Eigenvektoren <a class=\"anchor\" id=\"EigenwerteundEigenvektoren\"></a> [Back to top](#TableofContents)"
   ]
  },
  {
   "cell_type": "markdown",
   "id": "4ff7ac6e",
   "metadata": {},
   "source": [
    "#### Mit Numpy"
   ]
  },
  {
   "cell_type": "code",
   "execution_count": 31,
   "id": "99e724fb",
   "metadata": {},
   "outputs": [
    {
     "name": "stdout",
     "output_type": "stream",
     "text": [
      "S = [2. 3.]\n",
      "E = \n",
      "[[1. 0.]\n",
      " [0. 1.]]\n"
     ]
    }
   ],
   "source": [
    "# Parameter :\n",
    "A = np.array([[2,0],[0,3]]);\n",
    "# Berechnungen :\n",
    "[S,E] = np.linalg.eig(A);\n",
    "# Ausgabe :\n",
    "print(f\"S = {S}\");\n",
    "print(f\"E = \\n{E}\"); # normierte Eigenvektoren"
   ]
  },
  {
   "cell_type": "code",
   "execution_count": 32,
   "id": "78a48b06",
   "metadata": {
    "scrolled": true
   },
   "outputs": [
    {
     "name": "stdout",
     "output_type": "stream",
     "text": [
      "S = [-1.  3.  1.]\n",
      "E = \n",
      "[[ 0.          0.          0.53452248]\n",
      " [-0.31622777 -0.70710678 -0.26726124]\n",
      " [-0.9486833   0.70710678  0.80178373]]\n"
     ]
    }
   ],
   "source": [
    "# Parameter :\n",
    "A = np.array([[1,0,0],[2,2,-1],[0,-3,0]]);\n",
    "# Berechnungen :\n",
    "[S,E] = np.linalg.eig(A);\n",
    "# Ausgabe :\n",
    "print(f\"S = {S}\");\n",
    "print(f\"E = \\n{E}\"); # normierte Eigenvektoren"
   ]
  },
  {
   "cell_type": "markdown",
   "id": "6a5cad92",
   "metadata": {},
   "source": [
    "#### Mit Sympy"
   ]
  },
  {
   "cell_type": "code",
   "execution_count": 37,
   "id": "68b78b44",
   "metadata": {},
   "outputs": [
    {
     "data": {
      "text/latex": [
       "$\\displaystyle \\left[\\begin{matrix}2 & 0\\\\0 & 3\\end{matrix}\\right]$"
      ],
      "text/plain": [
       "⎡2  0⎤\n",
       "⎢    ⎥\n",
       "⎣0  3⎦"
      ]
     },
     "metadata": {},
     "output_type": "display_data"
    },
    {
     "data": {
      "text/latex": [
       "$\\displaystyle \\left[\\begin{matrix}1 & 0\\\\0 & 1\\end{matrix}\\right]$"
      ],
      "text/plain": [
       "⎡1  0⎤\n",
       "⎢    ⎥\n",
       "⎣0  1⎦"
      ]
     },
     "metadata": {},
     "output_type": "display_data"
    }
   ],
   "source": [
    "# Parameter :\n",
    "A = sp.Matrix([[2,0],[0,3]]);\n",
    "# Berechnungen :\n",
    "[E,D] =A.diagonalize();\n",
    "# Ausgabe :\n",
    "dp.display(D);\n",
    "dp.display(E);"
   ]
  },
  {
   "cell_type": "code",
   "execution_count": 38,
   "id": "167fc933",
   "metadata": {},
   "outputs": [
    {
     "data": {
      "text/latex": [
       "$\\displaystyle \\left[\\begin{matrix}-1 & 0 & 0\\\\0 & 1 & 0\\\\0 & 0 & 3\\end{matrix}\\right]$"
      ],
      "text/plain": [
       "⎡-1  0  0⎤\n",
       "⎢        ⎥\n",
       "⎢0   1  0⎥\n",
       "⎢        ⎥\n",
       "⎣0   0  3⎦"
      ]
     },
     "metadata": {},
     "output_type": "display_data"
    },
    {
     "data": {
      "text/latex": [
       "$\\displaystyle \\left[\\begin{matrix}0 & 2 & 0\\\\1 & -1 & -1\\\\3 & 3 & 1\\end{matrix}\\right]$"
      ],
      "text/plain": [
       "⎡0  2   0 ⎤\n",
       "⎢         ⎥\n",
       "⎢1  -1  -1⎥\n",
       "⎢         ⎥\n",
       "⎣3  3   1 ⎦"
      ]
     },
     "metadata": {},
     "output_type": "display_data"
    }
   ],
   "source": [
    "# Parameter :\n",
    "A = sp.Matrix([[1,0,0],[2,2,-1],[0,-3,0]]);\n",
    "# Berechnungen :\n",
    "[E,D] =A.diagonalize();\n",
    "# Ausgabe :\n",
    "dp.display(D);\n",
    "dp.display(E);"
   ]
  },
  {
   "cell_type": "markdown",
   "id": "25e67950",
   "metadata": {},
   "source": [
    "### Vektorfelder <a class=\"anchor\" id=\"Vektorfelder\"></a> [Back to top](#TableofContents)"
   ]
  },
  {
   "cell_type": "code",
   "execution_count": 254,
   "id": "683a7886",
   "metadata": {},
   "outputs": [
    {
     "data": {
      "image/png": "[encoded data removed]",
      "text/plain": [
       "<Figure size 432x288 with 1 Axes>"
      ]
     },
     "metadata": {
      "needs_background": "light"
     },
     "output_type": "display_data"
    }
   ],
   "source": [
    "# Parameter :\n",
    "x_0 = -6; x_E = 6; y_0 = -3; y_E = 3;\n",
    "N_x = 13; N_y = 9; sc = 10; lw = 0.005; fig = fig+1;\n",
    "# Funktionen :\n",
    "def a(x,y):\n",
    "    v_x =0.5; # x-Daten des Vektorfeldes\n",
    "    v_y =0.25; # y-Daten des Vektorfeldes\n",
    "    return v_x, v_y;\n",
    "# Daten :\n",
    "x_data = np.linspace(x_0 ,x_E, N_x);\n",
    "y_data = np.linspace(y_0 ,y_E, N_y);\n",
    "[x_grid , y_grid ]= np.meshgrid(x_data, y_data);\n",
    "[v_x_grid, v_y_grid]= a(x_grid, y_grid);\n",
    "# Plot :\n",
    "fh = pl.figure(fig);\n",
    "pl.title(\"2. a)\")\n",
    "pl.quiver(x_grid, y_grid, v_x_grid, v_y_grid, scale=sc, width=lw);\n",
    "pl.xlabel('$x$'); pl.ylabel('$y$');\n",
    "pl.grid('on'); pl.axis('image');"
   ]
  },
  {
   "cell_type": "markdown",
   "id": "8b63c538",
   "metadata": {},
   "source": [
    "### Matrizen <a class=\"anchor\" id=\"Matrizen\"></a> [Back to top](#TableofContents)"
   ]
  },
  {
   "cell_type": "markdown",
   "id": "9501cf11",
   "metadata": {},
   "source": [
    "#### Standard-Operationen"
   ]
  },
  {
   "cell_type": "code",
   "execution_count": 17,
   "id": "955c934e",
   "metadata": {},
   "outputs": [
    {
     "name": "stdout",
     "output_type": "stream",
     "text": [
      "A =\n",
      " [[ 1  3]\n",
      " [ 4 -2]] \n",
      "\n",
      "B =\n",
      " [[-3  9]\n",
      " [-6  6]] \n",
      "\n",
      "B_transponiert =\n",
      " [[-3 -6]\n",
      " [ 9  6]]\n",
      "\n",
      "C = A+B\n",
      " [[-2 12]\n",
      " [-2  4]] \n",
      "\n",
      "C = -2*A\n",
      " [[-2 -6]\n",
      " [-8  4]] \n",
      "\n",
      "C = B/3\n",
      " [[-1.  3.]\n",
      " [-2.  2.]] \n",
      "\n",
      "C = 2*B-A\n",
      " [[ -7  15]\n",
      " [-16  14]] \n",
      "\n",
      "C = A*B\n",
      " [[-21  27]\n",
      " [  0  24]]\n"
     ]
    }
   ],
   "source": [
    "# Parameter :\n",
    "A=np.array([[1 ,3] ,[4 , -2]]);\n",
    "B=np.array([[-3 ,9] ,[-6 ,6]]);\n",
    "B_transponiert = B.T; # Matrix transponieren\n",
    "print(\"A =\\n\", A, \"\\n\");\n",
    "print(\"B =\\n\", B, \"\\n\");\n",
    "print(\"B_transponiert =\\n\", B_transponiert)\n",
    "\n",
    "# Berechnungen :\n",
    "print(\"\\nC = A+B\\n\", A+B, \"\\n\")\n",
    "print(\"C = -2*A\\n\", -2*A, \"\\n\")\n",
    "print(\"C = B/3\\n\", B/3, \"\\n\")\n",
    "print(\"C = 2*B-A\\n\", 2*B-A, \"\\n\")\n",
    "print(\"C = A*B\\n\", A@B)"
   ]
  },
  {
   "cell_type": "markdown",
   "id": "040c9f54",
   "metadata": {},
   "source": [
    "#### Matrizen erzeugen"
   ]
  },
  {
   "cell_type": "code",
   "execution_count": 18,
   "id": "fa611d1f",
   "metadata": {},
   "outputs": [
    {
     "name": "stdout",
     "output_type": "stream",
     "text": [
      "[[1. 0. 0.]\n",
      " [0. 1. 0.]\n",
      " [0. 0. 1.]]\n"
     ]
    }
   ],
   "source": [
    "A=np.zeros((2,3));\n",
    "B=np.ones((2,3));\n",
    "C=np.array([np.r_[1.:6.],np.r_[6.:11.]]);\n",
    "D=np.array([np.r_[1.:10.:2],np.r_[3.:16.:3]]);\n",
    "E=np.eye(3);\n",
    "F=-2*np.eye(3);\n",
    "print(E);"
   ]
  },
  {
   "cell_type": "markdown",
   "id": "d9824146",
   "metadata": {},
   "source": [
    "#### Spur und Determinante"
   ]
  },
  {
   "cell_type": "code",
   "execution_count": 19,
   "id": "90e16cfa",
   "metadata": {},
   "outputs": [
    {
     "name": "stdout",
     "output_type": "stream",
     "text": [
      "[[2. 3.]\n",
      " [4. 5.]]\n",
      "Spur = 7.00 und Determinante = -2.00\n"
     ]
    }
   ],
   "source": [
    "# Parameter:\n",
    "A=np.array([[2.,3.], [4.,5.]]);\n",
    "print(A);\n",
    "pr = 3;\n",
    "\n",
    "# Berechnungen:\n",
    "s = np.trace(A);\n",
    "d = np.linalg.det(A);\n",
    "# Ausgabe:\n",
    "print(f\"Spur = {s:#.{pr}} und Determinante = {d:#.{pr}}\")"
   ]
  },
  {
   "cell_type": "markdown",
   "id": "16f8985f",
   "metadata": {},
   "source": [
    "### Differential <a class=\"anchor\" id=\"Differential\"></a> [Back to top](#TableofContents)"
   ]
  },
  {
   "cell_type": "code",
   "execution_count": 153,
   "id": "9843ced5",
   "metadata": {},
   "outputs": [
    {
     "name": "stdout",
     "output_type": "stream",
     "text": [
      "f =\n"
     ]
    },
    {
     "data": {
      "text/latex": [
       "$\\displaystyle - \\frac{x^{15}}{5} + \\frac{x^{6}}{3} - e^{14}$"
      ],
      "text/plain": [
       "-x**15/5 + x**6/3 - exp(14)"
      ]
     },
     "metadata": {},
     "output_type": "display_data"
    },
    {
     "name": "stdout",
     "output_type": "stream",
     "text": [
      "\n",
      "f' =\n"
     ]
    },
    {
     "data": {
      "text/latex": [
       "$\\displaystyle x^{5} \\cdot \\left(2 - 3 x^{9}\\right)$"
      ],
      "text/plain": [
       "x**5*(2 - 3*x**9)"
      ]
     },
     "metadata": {},
     "output_type": "display_data"
    }
   ],
   "source": [
    "# Parameter :\n",
    "f = x **6/3 - x **15/5 - sp.E**14; # Funktion welche abgeleitet werden soll\n",
    "# Berechnungen :\n",
    "fs = sp.simplify(sp.diff(f,x)); # Ableiten\n",
    "# Ausgabe :\n",
    "print(\"f =\")\n",
    "dp.display(f);\n",
    "print(\"\\nf' =\")\n",
    "dp.display(fs);"
   ]
  },
  {
   "cell_type": "markdown",
   "id": "ab70daf1",
   "metadata": {},
   "source": [
    "### Integral <a class=\"anchor\" id=\"Integral\"></a> [Back to top](#TableofContents)"
   ]
  },
  {
   "cell_type": "markdown",
   "id": "89d0071f",
   "metadata": {},
   "source": [
    "#### Unbestimmtes Integral"
   ]
  },
  {
   "cell_type": "code",
   "execution_count": 10,
   "id": "20d643a0",
   "metadata": {},
   "outputs": [
    {
     "name": "stdout",
     "output_type": "stream",
     "text": [
      "f =\n"
     ]
    },
    {
     "data": {
      "image/png": "[encoded data removed]",
      "text/latex": [
       "$\\displaystyle \\frac{x}{x^{4} + 1}$"
      ],
      "text/plain": [
       "  x   \n",
       "──────\n",
       " 4    \n",
       "x  + 1"
      ]
     },
     "metadata": {},
     "output_type": "display_data"
    },
    {
     "name": "stdout",
     "output_type": "stream",
     "text": [
      "\n",
      "F =\n"
     ]
    },
    {
     "data": {
      "image/png": "[encoded data removed]",
      "text/latex": [
       "$\\displaystyle \\frac{\\operatorname{atan}{\\left(x^{2} \\right)}}{2}$"
      ],
      "text/plain": [
       "    ⎛ 2⎞\n",
       "atan⎝x ⎠\n",
       "────────\n",
       "   2    "
      ]
     },
     "metadata": {},
     "output_type": "display_data"
    }
   ],
   "source": [
    "# Sympy\n",
    "# Parameter :\n",
    "f = x/(1+ x**4)\n",
    "# Berechnungen :\n",
    "F = sp.simplify(sp.integrate(f, x));\n",
    "# Ausgabe :\n",
    "print(\"f =\")\n",
    "dp.display(f);\n",
    "print(\"\\nF =\")\n",
    "dp.display(F);"
   ]
  },
  {
   "cell_type": "code",
   "execution_count": 11,
   "id": "1099e70b",
   "metadata": {},
   "outputs": [
    {
     "name": "stdout",
     "output_type": "stream",
     "text": [
      "f =\n"
     ]
    },
    {
     "data": {
      "image/png": "[encoded data removed]",
      "text/latex": [
       "$\\displaystyle 2 x + 1$"
      ],
      "text/plain": [
       "2⋅x + 1"
      ]
     },
     "metadata": {},
     "output_type": "display_data"
    },
    {
     "name": "stdout",
     "output_type": "stream",
     "text": [
      "\n",
      "F =\n"
     ]
    },
    {
     "data": {
      "image/png": "[encoded data removed]",
      "text/latex": [
       "$\\displaystyle x^{2} + x$"
      ],
      "text/plain": [
       " 2    \n",
       "x  + x"
      ]
     },
     "metadata": {},
     "output_type": "display_data"
    }
   ],
   "source": [
    "# Sympy\n",
    "# Parameter :\n",
    "f = 2*x+1; # Funktion welche aufgeleitet werden soll\n",
    "# Berechnungen :\n",
    "F = sp.expand(sp.integrate(f,x)); # Aufleiten\n",
    "# Ausgabe :\n",
    "print(\"f =\")\n",
    "dp.display(f);\n",
    "print(\"\\nF =\")\n",
    "dp.display(F);"
   ]
  },
  {
   "cell_type": "markdown",
   "id": "91ed101c",
   "metadata": {},
   "source": [
    "#### Bestimmtes Integral"
   ]
  },
  {
   "cell_type": "code",
   "execution_count": 156,
   "id": "977b2ad8",
   "metadata": {},
   "outputs": [
    {
     "name": "stdout",
     "output_type": "stream",
     "text": [
      "f = 2*x - 1 | x_0 = 0 | x_E = 3\n",
      "\n",
      " I =\n"
     ]
    },
    {
     "data": {
      "text/latex": [
       "$\\displaystyle 6$"
      ],
      "text/plain": [
       "6"
      ]
     },
     "metadata": {},
     "output_type": "display_data"
    }
   ],
   "source": [
    "# Sympy\n",
    "# Parameter :\n",
    "f = 2*x-1; x_0 = 0; x_E = 3;\n",
    "# Berechnungen :\n",
    "I = sp.integrate(f,(x,x_0,x_E));\n",
    "# Ausgabe :\n",
    "print('f =', f, '| x_0 =', x_0, '| x_E =', x_E)\n",
    "print('\\n I =')\n",
    "dp.display(I);"
   ]
  },
  {
   "cell_type": "markdown",
   "id": "3bc7bd65",
   "metadata": {},
   "source": [
    "#### Linienintegral"
   ]
  },
  {
   "cell_type": "code",
   "execution_count": 279,
   "id": "4d103798",
   "metadata": {},
   "outputs": [
    {
     "name": "stdout",
     "output_type": "stream",
     "text": [
      "Linienintegral von w(x;y) entlang s(τ):\n",
      "I = 2.00000000000000\n"
     ]
    }
   ],
   "source": [
    "# Python konfigurieren :\n",
    "r, x, y, alpha, tau = sp.symbols('r, x, y, alpha, tau');\n",
    "# Parameter :\n",
    "tau_0 =0; tau_E =2; # Definitionsbereich tau\n",
    "# Funktionen :\n",
    "def w(x,y):\n",
    "    res = sp.Matrix([[0.5],[0.25]]);\n",
    "    return res;\n",
    "def s(tau):\n",
    "    res = sp.Matrix([[1 -2* tau],[3+8* tau]]);\n",
    "    return res;\n",
    "# Berechnungen :\n",
    "v = sp.simplify(sp.diff(s(tau), tau));\n",
    "I = sp.simplify(sp.integrate(v.dot(w(s(tau)[0], s(tau)[1])),( tau, tau_0, tau_E )));\n",
    "# Ausgabe :\n",
    "print(\"Linienintegral von w(x;y) entlang s(τ):\")\n",
    "print(\"I =\", I)"
   ]
  },
  {
   "cell_type": "markdown",
   "id": "15efaa57",
   "metadata": {},
   "source": [
    "#### Uneigentliches Integral"
   ]
  },
  {
   "cell_type": "markdown",
   "id": "d1ef7379",
   "metadata": {},
   "source": [
    "$$\\int_0^\\infty e^{-x} \\,dx$$"
   ]
  },
  {
   "cell_type": "code",
   "execution_count": 6,
   "id": "ec20fd35",
   "metadata": {},
   "outputs": [
    {
     "data": {
      "image/png": "[encoded data removed]",
      "text/latex": [
       "$\\displaystyle 1$"
      ],
      "text/plain": [
       "1"
      ]
     },
     "metadata": {},
     "output_type": "display_data"
    }
   ],
   "source": [
    "# Python konfigurieren :\n",
    "sp.init_printing();\n",
    "x=sp.symbols('x');\n",
    "# Berechnungen :\n",
    "I = sp.integrate(sp.exp(-x),(x,0,sp.oo));\n",
    "# Ausgabe :\n",
    "dp.display(I);"
   ]
  },
  {
   "cell_type": "markdown",
   "id": "d952e037",
   "metadata": {},
   "source": [
    "$$\\int_0^1 \\frac{1}{x} \\,dx$$"
   ]
  },
  {
   "cell_type": "code",
   "execution_count": 7,
   "id": "7f03f04f",
   "metadata": {},
   "outputs": [
    {
     "data": {
      "image/png": "[encoded data removed]",
      "text/latex": [
       "$\\displaystyle \\infty$"
      ],
      "text/plain": [
       "∞"
      ]
     },
     "metadata": {},
     "output_type": "display_data"
    }
   ],
   "source": [
    "# Berechnungen :\n",
    "I = sp.integrate(1/x,(x,0,1));\n",
    "# Ausgabe :\n",
    "dp.display(I);"
   ]
  },
  {
   "cell_type": "markdown",
   "id": "cefbadd3",
   "metadata": {},
   "source": [
    "### Komplexe Zahlen <a class=\"anchor\" id=\"KomplexeZahlen\"></a> [Back to top](#TableofContents)"
   ]
  },
  {
   "cell_type": "markdown",
   "id": "5c4bba96",
   "metadata": {},
   "source": [
    "> Beispiel Umwandlung in arithmetische Form: $2 cis(−π/3)$"
   ]
  },
  {
   "cell_type": "code",
   "execution_count": 245,
   "id": "1a603843",
   "metadata": {},
   "outputs": [
    {
     "name": "stdout",
     "output_type": "stream",
     "text": [
      "z = (1.00-1.73j)\n"
     ]
    }
   ],
   "source": [
    "# Parameter :\n",
    "r = 2; phi = -np.pi/3;\n",
    "# Berechnungen :\n",
    "z = r*(np.cos(phi)+1j*np.sin(phi));\n",
    "# Ausgabe :\n",
    "print ('z =',f\"{z:#.3}\");"
   ]
  },
  {
   "cell_type": "markdown",
   "id": "c87ba884",
   "metadata": {},
   "source": [
    "> Beispiel Umwandlung in trigonometrische Form: $1.00-1.73j$"
   ]
  },
  {
   "cell_type": "code",
   "execution_count": 296,
   "id": "d9da164c",
   "metadata": {},
   "outputs": [
    {
     "name": "stdout",
     "output_type": "stream",
     "text": [
      "z =  (1.00-1.73j)  =  2.00  * cis(-0.333 pi)\n"
     ]
    }
   ],
   "source": [
    "# Parameter :\n",
    "z = 1.00-1.73j;\n",
    "# Berechnungen :\n",
    "r = np.abs(z);\n",
    "phi = np.angle(z);\n",
    "# Ausgabe :\n",
    "print ('z =',f\" {z :#.3} \",'=',f\" {r :#.3} \",'* cis('f\"{phi/np.pi:#.3}\",'pi)');"
   ]
  },
  {
   "cell_type": "markdown",
   "id": "cd21b641",
   "metadata": {},
   "source": [
    "---"
   ]
  },
  {
   "cell_type": "markdown",
   "id": "18442c3f",
   "metadata": {},
   "source": [
    "## Plot für Funktionen mit zwei Variablen <a class=\"anchor\" id=\"PlotfürFunktionenmitzweiVariablen\"></a> [Back to top](#TableofContents)"
   ]
  },
  {
   "cell_type": "markdown",
   "id": "860c133f",
   "metadata": {},
   "source": [
    "> 3-D / Farb-Plot / Level Linien "
   ]
  },
  {
   "cell_type": "code",
   "execution_count": 241,
   "id": "73b4710f",
   "metadata": {},
   "outputs": [
    {
     "data": {
      "image/png": "[encoded data removed]",
      "text/plain": [
       "<Figure size 432x288 with 1 Axes>"
      ]
     },
     "metadata": {
      "needs_background": "light"
     },
     "output_type": "display_data"
    },
    {
     "data": {
      "image/png": "[encoded data removed]",
      "text/plain": [
       "<Figure size 432x288 with 1 Axes>"
      ]
     },
     "metadata": {
      "needs_background": "light"
     },
     "output_type": "display_data"
    },
    {
     "data": {
      "image/png": "[encoded data removed]",
      "text/plain": [
       "<Figure size 432x288 with 1 Axes>"
      ]
     },
     "metadata": {
      "needs_background": "light"
     },
     "output_type": "display_data"
    }
   ],
   "source": [
    "# Parameter :\n",
    "x_0 = -4; x_E =4; y_0 = -2; y_E =2;\n",
    "N_x =401; N_y =201; N_g =10; N_l =31; az = -38 -90; el =10; fig =1;\n",
    "# Funktionen :\n",
    "def f(x,y): z =0.5* x ; return z;\n",
    "# Daten :\n",
    "x_data =np.linspace(x_0 ,x_E ,N_x);\n",
    "y_data =np.linspace(y_0 ,y_E ,N_y);\n",
    "[x_grid,y_grid]= np.meshgrid(x_data , y_data );\n",
    "z_grid = f(x_grid,y_grid);\n",
    "# Graph - Plot :\n",
    "fh=pl.figure(fig); ax=pl.axes(projection ='3d');\n",
    "ax.plot_surface (x_grid,y_grid,z_grid , rstride =N_g , cstride =N_g ,\n",
    "cmap ='viridis'); ax. view_init (el ,az);\n",
    "ax.set_xlabel (r'$x$'); ax. set_ylabel (r'$y$'); ax. set_zlabel (r'$z$');\n",
    "ax.set_box_aspect ((np.ptp(x_grid),np.ptp(y_grid),np.ptp(z_grid)));\n",
    "# Farb - Plot :\n",
    "fig=fig +1; fh=pl.figure (fig);\n",
    "pl.pcolor(x_grid ,y_grid ,z_grid, cmap ='viridis',shading ='auto');\n",
    "pl.xlabel(r'$x$'); pl.ylabel (r'$y$');\n",
    "pl.grid (visible=False ); pl.axis ('image');\n",
    "# Level -Linien - Plot :\n",
    "fig=fig +1; fh=pl.figure(fig);\n",
    "pl.contour(x_grid ,y_grid ,z_grid ,N_l);\n",
    "pl.xlabel(r'$x$'); pl.ylabel (r'$y$');\n",
    "pl.grid(visible=False); pl.axis('image');"
   ]
  },
  {
   "cell_type": "markdown",
   "id": "9ec91cd9",
   "metadata": {},
   "source": [
    "---"
   ]
  },
  {
   "cell_type": "markdown",
   "id": "36c60ffd",
   "metadata": {},
   "source": [
    "## Parametrisierte Kurven/Flächen <a class=\"anchor\" id=\"ParametrisierteKurvenFlächen\"></a> [Back to top](#TableofContents)"
   ]
  },
  {
   "cell_type": "markdown",
   "id": "5d528775",
   "metadata": {},
   "source": [
    "### Parametrisierte Kurven"
   ]
  },
  {
   "cell_type": "code",
   "execution_count": 294,
   "id": "c1bdfd2e",
   "metadata": {},
   "outputs": [
    {
     "data": {
      "image/png": "[encoded data removed]",
      "text/plain": [
       "<Figure size 432x288 with 1 Axes>"
      ]
     },
     "metadata": {
      "needs_background": "light"
     },
     "output_type": "display_data"
    }
   ],
   "source": [
    "# Parameter :\n",
    "tau_0 =0; tau_E = np.pi ; N =201; lw =3; fig = fig+1;\n",
    "# Funktionen :\n",
    "def s(tau): # Parametrisierung\n",
    "    x = 1 + 2 * tau;\n",
    "    y = 3 - tau;\n",
    "    return x, y;\n",
    "# Daten :\n",
    "tau_data = np.linspace(tau_0 ,tau_E, N);\n",
    "[x_data, y_data]= s (tau_data);\n",
    "# Plot :\n",
    "fh = pl.figure(fig);\n",
    "pl.plot(x_data, y_data, linewidth = lw);\n",
    "pl.xlabel(r'$x$'); pl.ylabel(r'$y$');\n",
    "pl.grid('on'); pl.axis('image');"
   ]
  },
  {
   "cell_type": "markdown",
   "id": "5592b3ed",
   "metadata": {},
   "source": [
    "### Parametrisierte Flächen"
   ]
  },
  {
   "cell_type": "code",
   "execution_count": 295,
   "id": "d8d2c67b",
   "metadata": {},
   "outputs": [
    {
     "data": {
      "image/png": "[encoded data removed]",
      "text/plain": [
       "<Figure size 432x288 with 1 Axes>"
      ]
     },
     "metadata": {
      "needs_background": "light"
     },
     "output_type": "display_data"
    }
   ],
   "source": [
    "# Parameter :\n",
    "R =6; H = 10; u_0 = 0; u_E = 2* np.pi; v_0 = 0; v_E = H;\n",
    "N_u = 101; N_v = 21; fig = fig+1;\n",
    "# Funktionen :\n",
    "def P(u, v): # Parametrisierung\n",
    "    x = R * np.cos(u);\n",
    "    y = R * np.sin(u);\n",
    "    z = v;\n",
    "    return x, y, z;\n",
    "# Daten :\n",
    "u_data = np.linspace(u_0, u_E, N_u);\n",
    "v_data = np.linspace(v_0, v_E, N_v);\n",
    "[u_grid, v_grid] = np.meshgrid(u_data, v_data);\n",
    "[x_grid, y_grid, z_grid] = P(u_grid, v_grid);\n",
    "# Plot :\n",
    "fh= pl.figure(fig); ax=pl.axes(projection='3d');\n",
    "ax.plot_surface(x_grid, y_grid, z_grid, cmap = 'viridis');\n",
    "ax.set_xlabel (r'$x$'); ax.set_ylabel(r'$y$'); ax.set_zlabel(r'$z$');\n",
    "ax.set_box_aspect((np.ptp(x_grid), np.ptp(y_grid), np.ptp(z_grid)));"
   ]
  },
  {
   "cell_type": "markdown",
   "id": "cd933843",
   "metadata": {},
   "source": [
    "---"
   ]
  },
  {
   "cell_type": "markdown",
   "id": "f1e6af4b",
   "metadata": {},
   "source": [
    "## Standard-Plots <a class=\"anchor\" id=\"Standard-Plots\"></a> [Back to top](#TableofContents)"
   ]
  },
  {
   "cell_type": "markdown",
   "id": "6eab3ca8",
   "metadata": {},
   "source": [
    "### Basic Plot einer Funktion <a class=\"anchor\" id=\"BasicPloteinerFunktion\"></a>"
   ]
  },
  {
   "cell_type": "code",
   "execution_count": 20,
   "id": "ec4b144b",
   "metadata": {
    "scrolled": false
   },
   "outputs": [
    {
     "data": {
      "image/png": "[encoded data removed]",
      "text/plain": [
       "<Figure size 360x360 with 1 Axes>"
      ]
     },
     "metadata": {
      "needs_background": "light"
     },
     "output_type": "display_data"
    }
   ],
   "source": [
    "# Python konfigurieren :\n",
    "pl.close(\"all\");\n",
    "pl.rcParams[\"figure.figsize\"]=(5, 5);\n",
    "# Parameter :\n",
    "x_0 = 0; x_E = 4; N = 201; lw = 3; fig = fig+1;\n",
    "# Funktionen :\n",
    "def f(x): y = 3/(1+x); return y;\n",
    "def g(x): y = x/2; return y;\n",
    "def h(x): y = (x/2)+1; return y;\n",
    "# Daten :\n",
    "x_data = np.linspace(x_0, x_E, N);\n",
    "f_data = f(x_data);\n",
    "g_data = g(x_data);\n",
    "h_data = h(x_data);\n",
    "# Plot :\n",
    "fh = pl.figure(fig);\n",
    "pl.plot(x_data, f_data, linewidth = lw, label = r\"$f = 3/(1+x)$\"); # $-Zeichen -> Kursiv -> Mathematischer Ausdruck\n",
    "pl.plot(x_data, g_data, \"--\", linewidth = lw, label =r\"$g = x/2$\");\n",
    "pl.plot(x_data, h_data, \"-.\", linewidth = lw, label =r\"$g = (x/2)+1$\");\n",
    "pl.xlabel(r\"$x$ \"); pl.ylabel(r\"$y$\"); pl.legend();\n",
    "pl.grid(\"on\"); pl.axis(\"image\");"
   ]
  },
  {
   "cell_type": "markdown",
   "id": "3b2a7431",
   "metadata": {},
   "source": [
    "### Plot einer trigonometrischer Funktion (modifizierte x Achse)  <a class=\"anchor\" id=\"PloteinertrigonometrischenFunktion\"></a>"
   ]
  },
  {
   "cell_type": "code",
   "execution_count": 10,
   "id": "2ccfb1f4",
   "metadata": {},
   "outputs": [
    {
     "data": {
      "image/png": "[encoded data removed]",
      "text/plain": [
       "<Figure size 720x360 with 1 Axes>"
      ]
     },
     "metadata": {
      "needs_background": "light"
     },
     "output_type": "display_data"
    }
   ],
   "source": [
    "# Python konfigurieren\n",
    "pl.close(\"all\");\n",
    "pl.rcParams[\"figure.figsize\"]=(10, 5);\n",
    "# Parameter :\n",
    "x_0 = 0; x_E = 4*np.pi; N = 401; N_t = 9; lw = 3; fig = fig +1;\n",
    "# Funktionen :\n",
    "def f(x): y = np.sin(x); return y;\n",
    "# Daten :\n",
    "x_data = np.linspace(x_0, x_E, N);\n",
    "f_data = f(x_data);\n",
    "# Plot :\n",
    "fh = pl.figure(fig);\n",
    "pl.plot(x_data, f_data, linewidth = lw);\n",
    "pl.xlabel(r\"$x$\"); pl.ylabel(r\"$y$\");\n",
    "pl.xticks(np.linspace(x_0, x_E, N_t), (\"$0$\", \"$0.5\\,\\pi$\", \"$1.0\\,\\pi$\", \"$1.5\\,\\pi$\", \"$2.0\\,\\pi$\", \"$2.5\\,\\pi$\", \"$3.0\\,\\pi$\", \"$3.5\\,\\pi$\", \"$4.0\\,\\pi$\"));\n",
    "pl.grid(\"on\"); pl.axis(\"image\");"
   ]
  },
  {
   "cell_type": "markdown",
   "id": "055d6c2d",
   "metadata": {},
   "source": [
    "---"
   ]
  },
  {
   "cell_type": "markdown",
   "id": "341b2f79",
   "metadata": {},
   "source": [
    "## Heron-Verfahren <a class=\"anchor\" id=\"Heron-Verfahren\"></a> [Back to top](#TableofContents)"
   ]
  },
  {
   "cell_type": "markdown",
   "id": "12b5e036",
   "metadata": {},
   "source": [
    "> Mit dem Heron-Verfahren wird die Quadratwurzel einer Zahl $q$ von beliebigem Startwert aus \"angenähert\" und ist somit nach $x$ Iterationen genau berechnet."
   ]
  },
  {
   "cell_type": "markdown",
   "id": "b6284d12",
   "metadata": {},
   "source": [
    "### Heron-Verfahren: Visualisierung <a class=\"anchor\" id=\"Heron-VerfahrenVisualisierung\"></a>"
   ]
  },
  {
   "cell_type": "code",
   "execution_count": 11,
   "id": "d79446d7",
   "metadata": {},
   "outputs": [
    {
     "name": "stderr",
     "output_type": "stream",
     "text": [
      "C:\\Users\\leand\\AppData\\Local\\Temp/ipykernel_1676/1648996311.py:17: RuntimeWarning: divide by zero encountered in true_divide\n",
      "  def f(x): y=0.5*(x + q / x); return y\n"
     ]
    },
    {
     "data": {
      "image/png": "[encoded data removed]",
      "text/plain": [
       "<Figure size 720x360 with 1 Axes>"
      ]
     },
     "metadata": {
      "needs_background": "light"
     },
     "output_type": "display_data"
    }
   ],
   "source": [
    "# Python konfigurieren\n",
    "pl.close(\"all\");\n",
    "pl.rcParams[\"figure.figsize\"]=(10, 5);\n",
    "# Parameter :\n",
    "q=4.        # gesuchte Quadrat-Wurzel\n",
    "x_0=-12.    # Startwert x-Achse\n",
    "x_E=-x_0    # Endwert x-Achse\n",
    "y_a=-6.;    # Startpunkt y-Achse\n",
    "y_b=-y_a    # Endpunkt y-Achse\n",
    "N_f=201;    # Anz. Punkte für linspace Liste (Anzahl ausgerechnete Punkte für Plot) -> sollte ungerade sein!\n",
    "N_g=3;      # Anz. Punkte für linspace Liste für Funktion g\n",
    "lw=3;       # Liniendicke\n",
    "fig=fig+1;  # Name/Nummer des Plots\n",
    "tc_x=np.r_[x_0:x_E+1.:1.]; # x-Ticks für x-Achse\n",
    "tc_y=np.r_[y_a:y_b+1.:1.]; # y-Ticks für y-Achse\n",
    "# Funktionen :\n",
    "def f(x): y=0.5*(x + q / x); return y\n",
    "# Daten :\n",
    "x_a_data=np.linspace(x_0, x_E, N_f);\n",
    "x_b_data=np.linspace(x_0, x_E, N_f);\n",
    "f_a_data=f(x_a_data);\n",
    "f_b_data=f(x_b_data);\n",
    "x_data=np.linspace(x_0, x_E, N_g);\n",
    "g_data=x_data;\n",
    "# Plot :\n",
    "fh=pl.figure(fig);\n",
    "pl.plot(x_a_data, f_a_data, linewidth=lw);\n",
    "pl.plot(x_data, g_data, linewidth=lw);\n",
    "pl.title(\"q: \"+ str(q))\n",
    "pl.xlabel(r\"$x$\");pl.ylabel(r\"$y$\");\n",
    "pl.xticks(tc_x); pl.yticks(tc_y);\n",
    "pl.grid(\"on\"); pl.axis(\"image\");\n",
    "pl.xlim([x_0, x_E]); pl.ylim([y_a, y_b]);"
   ]
  },
  {
   "cell_type": "markdown",
   "id": "a527ed29",
   "metadata": {},
   "source": [
    "### Heron-Verfahren: Numerisch <a class=\"anchor\" id=\"Heron-VerfahrenNumerisch\"></a> [Back to top](#TableofContents)"
   ]
  },
  {
   "cell_type": "code",
   "execution_count": 12,
   "id": "11d0de8d",
   "metadata": {},
   "outputs": [
    {
     "name": "stdout",
     "output_type": "stream",
     "text": [
      "Iterationen für q = 2.0 :\n",
      "a_0 = 1.000000000000000\n",
      "a_1 = 1.500000000000000\n",
      "a_2 = 1.416666666666667\n",
      "a_3 = 1.414215686274510\n",
      "a_4 = 1.414213562374690\n",
      "a_5 = 1.414213562373095\n",
      "a_6 = 1.414213562373095\n",
      "---------------------------------------------------------\n",
      "Wurzel : sqrt (2.000000000000000) = 1.414213562373095\n",
      "---------------------------------------------------------\n"
     ]
    }
   ],
   "source": [
    "def Heron_Verfahren_Num(q):\n",
    "    # Parameter :\n",
    "    q = float(q); a_0 = 1.; pr = 16;\n",
    "    # Funktionen :\n",
    "    def f(x): y = 0.5*(x + q / x); return y;\n",
    "    # Iteration :\n",
    "    w = 0.; a = a_0 ; k = 0;\n",
    "\n",
    "    print(f\"Iterationen für q = {q} :\");\n",
    "    print(f\"a_{k} = {a:#.{pr}g}\")\n",
    "    while a != w:\n",
    "        w = a; \n",
    "        k = k+1;\n",
    "        a = f(a);\n",
    "        print(f\"a_{k} = {a:#.{pr}g}\");\n",
    "    # Ausgabe :\n",
    "    print(\"---------------------------------------------------------\");\n",
    "    print(f\"Wurzel : sqrt ({q:#.{pr}g}) = {a:#.{pr}g}\");\n",
    "    print(\"---------------------------------------------------------\");\n",
    "\n",
    "Heron_Verfahren_Num(2) # Verfahren als Funktion aufrufen"
   ]
  },
  {
   "cell_type": "markdown",
   "id": "b151ce72",
   "metadata": {},
   "source": [
    "---"
   ]
  },
  {
   "cell_type": "markdown",
   "id": "d7ebc855",
   "metadata": {},
   "source": [
    "### Rekursive Folgen <a class=\"anchor\" id=\"RekursiveFolgen\"></a> [Back to top](#TableofContents)"
   ]
  },
  {
   "cell_type": "code",
   "execution_count": 321,
   "id": "bea940ba",
   "metadata": {},
   "outputs": [
    {
     "data": {
      "image/png": "[encoded data removed]",
      "text/plain": [
       "<Figure size 432x288 with 1 Axes>"
      ]
     },
     "metadata": {
      "needs_background": "light"
     },
     "output_type": "display_data"
    }
   ],
   "source": [
    "def f(x): y = 1 - x**2; return y; # Rekursive Folge definieren\n",
    "\n",
    "x_data = [1/2]\n",
    "y_data = []\n",
    "\n",
    "n = 10\n",
    "curx = 0\n",
    "\n",
    "for i in range(n):\n",
    "    x = x_data[curx]\n",
    "    new_y = f(x)\n",
    "    y_data.append(new_y)\n",
    "    x_data.append(new_y)\n",
    "    curx += 1\n",
    "x_data.pop()\n",
    "\n",
    "fh=pl.figure();\n",
    "pl.plot(x_data, y_data, linewidth=1);\n",
    "pl.plot(x_data, x_data, c=\"m\", linewidth=1);\n",
    "pl.scatter(x_data, y_data,color=\"r\", linewidth=2);\n",
    "pl.xlabel(r'$x$'); pl.ylabel(r'$y$');\n",
    "pl.grid(visible=True); pl.axis('image');\n",
    "#pl.savefig(\"rekursiv_plotter.png\");"
   ]
  },
  {
   "cell_type": "markdown",
   "id": "e794e6fd",
   "metadata": {},
   "source": [
    "---"
   ]
  },
  {
   "cell_type": "markdown",
   "id": "93fcf764",
   "metadata": {},
   "source": [
    "## Interpolation <a class=\"anchor\" id=\"Interpolation\"></a> [Back to top](#TableofContents)"
   ]
  },
  {
   "cell_type": "markdown",
   "id": "67feb0fd",
   "metadata": {},
   "source": [
    "### Interpolation gemäss Newton-Schema <a class=\"anchor\" id=\"InterpolationgemässNewton-Schema\"></a>"
   ]
  },
  {
   "cell_type": "code",
   "execution_count": 13,
   "id": "0c09b3ed",
   "metadata": {},
   "outputs": [],
   "source": [
    "def Interploation_Newton_Schema(x_data, y_data, N, fig):\n",
    "    # Python konfigurieren:\n",
    "    pl.close('all');\n",
    "    pl.rcParams['figure.figsize']=(5,10);\n",
    "    # Parameter:\n",
    "    x_data=x_data;\n",
    "    y_data=y_data;\n",
    "    x_0=x_data[0]; x_E=x_data[-1]; N=N; lw=3; fig = fig+1;\n",
    "    # Berechnungen:\n",
    "    n=np.size(y_data);\n",
    "    TAB=np.block([[y_data],[np.zeros((n-1,n))]]);\n",
    "    c_data=np.zeros(n);\n",
    "    c_data[0]=y_data[0];\n",
    "    for i in range(1,n):\n",
    "        for j in range(i,n):\n",
    "            TAB[i][j]=(TAB[i-1][j]-TAB[i-1][j-1])/(x_data[j]-x_data[j-i]);\n",
    "        c_data[i]=TAB[i][i];\n",
    "    # Ausgabe:\n",
    "    print(f\"Daten Argumente:      x = {x_data}\");\n",
    "    print(f\"Daten Funktionswerte: y = {y_data}\");\n",
    "    print(f\"Newton-Koeffizienten: c = {c_data}\\n\");\n",
    "    # Funktionen:\n",
    "    def p(x):\n",
    "        d=1.; y=c_data[0];\n",
    "        for k in range(1,n):\n",
    "            d=d*(x-x_data[k-1]);\n",
    "            y=y+c_data[k]*d;\n",
    "        return y;\n",
    "    # Daten:\n",
    "    u_data=np.linspace(x_0,x_E,N);\n",
    "    v_data=p(u_data);\n",
    "    # Plot:\n",
    "    fh=pl.figure(fig);\n",
    "    pl.plot(u_data,v_data,linewidth=lw);\n",
    "    pl.plot(x_data,y_data,'o',linewidth=lw);\n",
    "    pl.xlabel(r'$x$'); pl.ylabel(r'$y$');\n",
    "    pl.grid(visible=True); pl.axis('image');"
   ]
  },
  {
   "cell_type": "markdown",
   "id": "372d336b",
   "metadata": {},
   "source": [
    "#### Interpolation einer Geraden"
   ]
  },
  {
   "cell_type": "code",
   "execution_count": 14,
   "id": "82dc212c",
   "metadata": {},
   "outputs": [
    {
     "name": "stdout",
     "output_type": "stream",
     "text": [
      "Daten Argumente:      x = [4. 8.]\n",
      "Daten Funktionswerte: y = [ 1. -1.]\n",
      "Newton-Koeffizienten: c = [ 1.  -0.5]\n",
      "\n"
     ]
    },
    {
     "data": {
      "image/png": "[encoded data removed]",
      "text/plain": [
       "<Figure size 360x720 with 1 Axes>"
      ]
     },
     "metadata": {
      "needs_background": "light"
     },
     "output_type": "display_data"
    }
   ],
   "source": [
    "Interploation_Newton_Schema(x_data=np.array([4., 8.]), y_data=np.array([1., -1.]), N=3, fig=fig) # Verfahren als Funktion aufrufen"
   ]
  },
  {
   "cell_type": "markdown",
   "id": "d13523d2",
   "metadata": {},
   "source": [
    "#### Interpolation eines Polynoms"
   ]
  },
  {
   "cell_type": "code",
   "execution_count": 15,
   "id": "40fa4118",
   "metadata": {
    "scrolled": false
   },
   "outputs": [
    {
     "name": "stdout",
     "output_type": "stream",
     "text": [
      "Daten Argumente:      x = [-1.  0.  1.  2.]\n",
      "Daten Funktionswerte: y = [-5. -1. -1.  1.]\n",
      "Newton-Koeffizienten: c = [-5.  4. -2.  1.]\n",
      "\n"
     ]
    },
    {
     "data": {
      "image/png": "[encoded data removed]",
      "text/plain": [
       "<Figure size 360x720 with 1 Axes>"
      ]
     },
     "metadata": {
      "needs_background": "light"
     },
     "output_type": "display_data"
    }
   ],
   "source": [
    "Interploation_Newton_Schema(x_data=np.array([-1., 0., 1., 2.]), y_data=np.array([-5., -1., -1., 1.]), N=201, fig=fig) # Verfahren als Funktion aufrufen"
   ]
  },
  {
   "cell_type": "markdown",
   "id": "05d32d32",
   "metadata": {},
   "source": [
    "---"
   ]
  },
  {
   "cell_type": "markdown",
   "id": "95edac43",
   "metadata": {},
   "source": [
    "### Interpolation anhand von Library <a class=\"anchor\" id=\"InterpolationanhandvonLibrary\"></a> [Back to top](#TableofContents)"
   ]
  },
  {
   "cell_type": "code",
   "execution_count": 16,
   "id": "bbd09bde",
   "metadata": {},
   "outputs": [],
   "source": [
    "def Interpolation_with_Library(x_data, y_data, fig):\n",
    "    # Python konfigurieren:\n",
    "    pl.close('all');\n",
    "    pl.rcParams['figure.figsize']=(15,5);\n",
    "    # Parameter:\n",
    "    x_data=x_data; # x-Daten welche modifiziert werden können\n",
    "    y_data=y_data; # y-Daten welche modifiziert werden können\n",
    "    x_0=0; x_E=11; y_a=-1.; y_b=5.; N=501; lw=3; sp=0.2; fig=fig+1; # Daten welche modifiziert werden müssen je nach x/y Daten\n",
    "    tc_x=np.r_[x_0:x_E+1]; # x-Ticks für x-Achse\n",
    "    tc_y=np.r_[y_a:y_b+0.5:0.5]; # y-Ticks für y-Achse\n",
    "    # Berechnungen:\n",
    "    po=ip.BarycentricInterpolator(x_data, y_data);\n",
    "    cs=ip.CubicSpline(x_data, y_data);\n",
    "    # Daten:\n",
    "    u_data=np.linspace(x_0, x_E, N);\n",
    "    v_data=po(u_data);\n",
    "    w_data=cs(u_data);\n",
    "    # Plot:\n",
    "    [fh,ax]=pl.subplots(1,2); # Subplot initialisieren\n",
    "\n",
    "    # Subplot 1 - BarycentricInterpolator\n",
    "    ax[0].title.set_text('BarycentricInterpolator')\n",
    "    ax[0].plot(u_data,v_data,linewidth=lw);\n",
    "    ax[0].plot(x_data,y_data,'o',linewidth=lw);\n",
    "    ax[0].set_xlabel(r'$x$');\n",
    "    ax[0].set_ylabel(r'$y$');\n",
    "    ax[0].set_xticks(tc_x);\n",
    "    ax[0].set_yticks(tc_y);\n",
    "    ax[0].grid(visible=True);\n",
    "    ax[0].axis([x_0,x_E,y_a,y_b]);\n",
    "\n",
    "    # Subplot 2 CubicSpline\n",
    "    ax[1].title.set_text('CubicSpline')\n",
    "    ax[1].plot(u_data,w_data,linewidth=lw);\n",
    "    ax[1].plot(x_data,y_data,'o',linewidth=lw);\n",
    "    ax[1].set_xlabel(r'$x$');\n",
    "    ax[1].set_ylabel(r'$y$');\n",
    "    ax[1].set_xticks(tc_x);\n",
    "    ax[1].set_yticks(tc_y);\n",
    "    ax[1].grid(visible=True);\n",
    "    ax[1].axis([x_0,x_E,y_a,y_b]);\n",
    "    pl.subplots_adjust(hspace=sp);"
   ]
  },
  {
   "cell_type": "markdown",
   "id": "97b9703a",
   "metadata": {},
   "source": [
    "#### Interpolation anhand von nicht angepassten y_data Werten"
   ]
  },
  {
   "cell_type": "code",
   "execution_count": 17,
   "id": "3d28b379",
   "metadata": {
    "scrolled": true
   },
   "outputs": [
    {
     "data": {
      "image/png": "[encoded data removed]",
      "text/plain": [
       "<Figure size 1080x360 with 2 Axes>"
      ]
     },
     "metadata": {
      "needs_background": "light"
     },
     "output_type": "display_data"
    }
   ],
   "source": [
    "# Noch nicht angepasste y_data Werte (noch kein \"natürlicher Verlauf\")\n",
    "Interpolation_with_Library(x_data=np.array([1.,2.,3.,4.,5.,6.,7.,8.,9.,10.]), y_data=np.array([1.,1.,1.,1.,1.,3.,3.,3.,3.,3.]), fig=fig) # Verfahren als Funktion aufrufen"
   ]
  },
  {
   "cell_type": "markdown",
   "id": "71ae56a1",
   "metadata": {},
   "source": [
    "#### Interpolation anhand von angepassten y_data Werten"
   ]
  },
  {
   "cell_type": "code",
   "execution_count": 18,
   "id": "a07d3da7",
   "metadata": {},
   "outputs": [
    {
     "data": {
      "image/png": "[encoded data removed]",
      "text/plain": [
       "<Figure size 1080x360 with 2 Axes>"
      ]
     },
     "metadata": {
      "needs_background": "light"
     },
     "output_type": "display_data"
    }
   ],
   "source": [
    "# Angepasste y_data Werte (\"natürlicher Verlauf\")\n",
    "Interpolation_with_Library(x_data=np.array([1.,2.,3.,4.,5.,6.,7.,8.,9.,10.]), y_data=np.array([1.,1.,1.,1.01,1.4,2.6,2.99,3.,3.,3.]), fig=fig) # Verfahren als Funktion aufrufen"
   ]
  },
  {
   "cell_type": "markdown",
   "id": "262bc029",
   "metadata": {},
   "source": [
    "---"
   ]
  },
  {
   "cell_type": "markdown",
   "id": "f8a53ab7",
   "metadata": {},
   "source": [
    "## Regression <a class=\"anchor\" id=\"Regression\"></a> [Back to top](#TableofContents)"
   ]
  },
  {
   "cell_type": "markdown",
   "id": "d824a87a",
   "metadata": {},
   "source": [
    "### Regression für Gerade (Polynom  mit degree = 1) <a class=\"anchor\" id=\"RegressionfürGerade\"></a>"
   ]
  },
  {
   "cell_type": "code",
   "execution_count": 19,
   "id": "a94b7316",
   "metadata": {},
   "outputs": [
    {
     "name": "stdout",
     "output_type": "stream",
     "text": [
      "f(x) = m*x + q\n",
      "m: -0.628571428571429 | q: 3.385714285714289\n"
     ]
    },
    {
     "data": {
      "image/png": "[encoded data removed]",
      "text/plain": [
       "<Figure size 504x504 with 1 Axes>"
      ]
     },
     "metadata": {
      "needs_background": "light"
     },
     "output_type": "display_data"
    }
   ],
   "source": [
    "# Python konfigurieren:\n",
    "pl.close('all');\n",
    "pl.rcParams['figure.figsize']=(7,7);\n",
    "# Python initialisieren:\n",
    "import matplotlib.pyplot as pl;\n",
    "import numpy as np;\n",
    "# Parameter:\n",
    "dg=1; # dg gibt den Grad des Polynoms an -> dg = 1 -> Gerade\n",
    "x_0=1.; x_E=7.; y_a=-2.; y_b=3.; # Daten welche modifiziert werden müssen je nach x/y Daten\n",
    "N=201; lw=3; fig=fig+1;\n",
    "# Daten:\n",
    "x_data=np.array([1.,2.,3.,4.,5.,6.,7.]); # x-Daten welche modifiziert werden können\n",
    "y_data=np.array([2.5, 2.2 ,1.5 ,1.0 ,0.6 ,-0.3, -1.4]); # y-Daten welche modifiziert werden können\n",
    "tc_x=np.r_[x_0:x_E+0.5:0.5]; # x-Ticks für x-Achse\n",
    "tc_y=np.r_[y_a:y_b+0.5:0.5]; # y-Ticks für y-Achse\n",
    "# Berechnungen:\n",
    "u_data=np.linspace(x_0,x_E,N);\n",
    "p=np.polyfit(x_data,y_data,dg);\n",
    "g_data=np.polyval(p,u_data);\n",
    "# Ausgabe:\n",
    "print(\"f(x) = m*x + q\")\n",
    "print(\"m:\", p[0], \"| q:\", p[1])\n",
    "# Plot:\n",
    "fh=pl.figure(fig);\n",
    "pl.plot(u_data,g_data,linewidth=lw);\n",
    "pl.plot(x_data,y_data,'o',linewidth=lw);\n",
    "pl.xlabel('x'); pl.ylabel('y');\n",
    "pl.xticks(tc_x); pl.yticks(tc_y);\n",
    "pl.grid(visible=True); pl.axis('image');"
   ]
  },
  {
   "cell_type": "markdown",
   "id": "47b43905",
   "metadata": {},
   "source": [
    "### Exponentielle Regression <a class=\"anchor\" id=\"ExponentielleRegression\"></a>"
   ]
  },
  {
   "cell_type": "code",
   "execution_count": 315,
   "id": "651858f9",
   "metadata": {},
   "outputs": [
    {
     "name": "stdout",
     "output_type": "stream",
     "text": [
      "[-1.27004387e-04  6.92982690e+00]\n",
      "p(x=4049) = 611.2989597798659\n"
     ]
    },
    {
     "data": {
      "image/png": "[encoded data removed]",
      "text/plain": [
       "<Figure size 432x288 with 1 Axes>"
      ]
     },
     "metadata": {
      "needs_background": "light"
     },
     "output_type": "display_data"
    }
   ],
   "source": [
    "x = np.array([273, 412, 556,990,1638,1709,3550]); # x-Messwerte\n",
    "y = np.array([976.9,973.6,955.5,902.3,834.2,824.7,649.]); # y-Messwerte\n",
    "log_y_data = np.log(y);\n",
    "curve_fit = np.polyfit(x, log_y_data, 1);\n",
    "print(curve_fit);\n",
    "y = np.exp(curve_fit[1]) * np.exp(curve_fit[0]*x);\n",
    "pl.plot(x, y, \"o\");\n",
    "pl.plot(x, y);\n",
    "def p(x):\n",
    "    y = np.exp(curve_fit[1]) * np.exp(curve_fit[0]*x);\n",
    "    return y;\n",
    "print(\"p(x=4049) =\", p(4049));"
   ]
  },
  {
   "cell_type": "markdown",
   "id": "d6b884ff",
   "metadata": {},
   "source": [
    "---"
   ]
  },
  {
   "cell_type": "markdown",
   "id": "948d865a",
   "metadata": {},
   "source": [
    "## Extrapolation <a class=\"anchor\" id=\"Extrapolation\"></a> [Back to top](#TableofContents)"
   ]
  },
  {
   "cell_type": "markdown",
   "id": "ca92cfe5",
   "metadata": {},
   "source": [
    "### Extrapolation gemäss Neville-Aitken-Schema <a class=\"anchor\" id=\"ExtrapolationgemässNeville-Aitken-Schema\"></a>"
   ]
  },
  {
   "cell_type": "markdown",
   "id": "a0239019",
   "metadata": {},
   "source": [
    "#### Standard-Verfahren"
   ]
  },
  {
   "cell_type": "code",
   "execution_count": 20,
   "id": "2d0c55fd",
   "metadata": {},
   "outputs": [
    {
     "name": "stdout",
     "output_type": "stream",
     "text": [
      "------------------------------------------------------\n",
      "x_data: [-1.  0.  1.  2.] | y_data: [-5. -1. -1.  1.]\n",
      "np.size(y_data): 4\n",
      "p(3.000000000000000) = 11.00000000000000\n",
      "------------------------------------------------------\n"
     ]
    }
   ],
   "source": [
    "# Funktionen :\n",
    "def NeAi (x, x_data, y_data):\n",
    "    n = np.size(y_data);\n",
    "    print(\"x_data:\", x_data, \"| y_data:\", y_data)\n",
    "    print(\"np.size(y_data):\", n)\n",
    "    TAB = np.block([[y_data],[np.zeros((n-1,n ))]]);\n",
    "    for i in range(1, n ):\n",
    "        for j in range(i, n):\n",
    "            TAB[i][j]=((x - x_data [j - i])*TAB[i-1][j]-(x - x_data [j])* TAB[i-1][j-1])/(x_data[j]-x_data[j-i]);\n",
    "    return TAB[n-1][n-1];\n",
    "\n",
    "# Parameter :\n",
    "pr = 16; # Nachkommastellen\n",
    "x = 3.; # Stelle welche vorhergesagt bzw. extrapoliert werden soll\n",
    "# Daten :\n",
    "x_data = np.array([-1., 0., 1., 2.]); # x-Daten welche modifiziert werden können\n",
    "y_data = np.array([-5., -1., -1., 1.]); # y-Daten welche modifiziert werden können\n",
    "# Berechnungen :\n",
    "print ('------------------------------------------------------');\n",
    "y = NeAi(x, x_data, y_data); # Verfahren als Funktion aufrufen und in Variable y speichern\n",
    "# Ausgabe :\n",
    "print (f\"p({x:#.{pr}g}) = {y:#.{pr}g}\");\n",
    "print ('------------------------------------------------------');"
   ]
  },
  {
   "cell_type": "markdown",
   "id": "3dbcb06c",
   "metadata": {},
   "source": [
    "#### Verfahren für Stelle 0"
   ]
  },
  {
   "cell_type": "markdown",
   "id": "d8a1dcdd",
   "metadata": {},
   "source": [
    "> Beispiel: Noch bessere Näherung für **Integral** &rarr; $I = \\int_{0}^{\\pi} \\sin(x) \\; dx$ durch Schrittweiten-Extrapolation gemäss Neville-Aitken-Schema"
   ]
  },
  {
   "cell_type": "code",
   "execution_count": 21,
   "id": "7d8597df",
   "metadata": {
    "scrolled": true
   },
   "outputs": [
    {
     "name": "stdout",
     "output_type": "stream",
     "text": [
      "------------------------------------------------------\n",
      "x_data: [0.03110488 0.01555244 0.00777622 0.00388811] | y_data: [1.9998355  1.99995928 1.99998987 1.99999747]\n",
      "np.size(y_data): 4\n",
      "I = 2.000000000803360\n",
      "------------------------------------------------------\n"
     ]
    }
   ],
   "source": [
    "# Funktionen :\n",
    "def NeAiNu(x_data, y_data):\n",
    "    n = np.size(y_data);\n",
    "    print(\"x_data:\", x_data, \"| y_data:\", y_data)\n",
    "    print(\"np.size(y_data):\", n)\n",
    "    TAB = np.block([[y_data],[np.zeros((n -1, n))]]);\n",
    "    for i in range(1, n):\n",
    "        for j in range(i, n):\n",
    "            TAB[i][j]=(x_data[j]*TAB[i-1][j-1]-x_data[j-i]*TAB[i-1][j])/(x_data[j]-x_data[j-i]);\n",
    "            #print(TAB,\"| i:\", i,\"| j:\", j)\n",
    "    return TAB[n-1][n-1];\n",
    "\n",
    "# Parameter :\n",
    "pr = 16; # Nachkommastellen\n",
    "# Daten :\n",
    "x_data = np.array([3.110487775831478e-2 ,1.555243887915739e-2,\n",
    "7.776219439578696e-3 ,3.888109719789348e-3]); # x-Daten welche modifiziert werden können\n",
    "y_data = np.array([1.999835503887443 ,1.999959284652254 ,\n",
    "1.999989871646689 ,1.999997474185016]); # y-Daten welche modifiziert werden können\n",
    "# Berechnungen :\n",
    "print ('------------------------------------------------------');\n",
    "I = NeAiNu(x_data, y_data); # Verfahren als Funktion aufrufen und in Variable I speichern (I für Integral, da ein Integral angenähert wird)\n",
    "# Ausgabe :\n",
    "print (f\"I = {I:#.{pr}g}\");\n",
    "print ('------------------------------------------------------');"
   ]
  },
  {
   "cell_type": "markdown",
   "id": "8c024e28",
   "metadata": {},
   "source": [
    "---"
   ]
  },
  {
   "cell_type": "markdown",
   "id": "14b91865",
   "metadata": {},
   "source": [
    "## Numerische Integration <a class=\"anchor\" id=\"NumerischeIntegration\"></a> [Back to top](#TableofContents)"
   ]
  },
  {
   "cell_type": "markdown",
   "id": "157f1a28",
   "metadata": {},
   "source": [
    "### Trapez-Regel <a class=\"anchor\" id=\"Trapez-Regel\"></a>"
   ]
  },
  {
   "cell_type": "markdown",
   "id": "246c8c10",
   "metadata": {},
   "source": [
    "#### Trapez-Regel mit Schleife"
   ]
  },
  {
   "cell_type": "code",
   "execution_count": 22,
   "id": "c7171282",
   "metadata": {},
   "outputs": [
    {
     "name": "stdout",
     "output_type": "stream",
     "text": [
      "I = 12.00000000000000\n"
     ]
    }
   ],
   "source": [
    "# Parameter :\n",
    "pr = 16\n",
    "# Daten :\n",
    "x_data = [1, 2, 3, 4, 5] # x-Daten welche modifiziert werden können\n",
    "y_data = [1, 2, 3, 4, 5] # y-Daten welche modifiziert werden können\n",
    "# Funktionen :\n",
    "def TRAPZ(y_data, x_data):\n",
    "    N = np.size(y_data);\n",
    "    I = 0.;\n",
    "    for k in range(0, N-1):\n",
    "        I = I + (x_data[k+1] - x_data[k])*(y_data[k+1] + y_data[k]);\n",
    "    I = 0.5 * I ;\n",
    "    return I;\n",
    "\n",
    "I = TRAPZ(y_data, x_data)\n",
    "print (f\"I = {I:#.{pr}g}\");"
   ]
  },
  {
   "cell_type": "markdown",
   "id": "12dafb6d",
   "metadata": {},
   "source": [
    "#### Trapez-Regel mit Vektorgeometrie"
   ]
  },
  {
   "cell_type": "code",
   "execution_count": 23,
   "id": "4fc3b3b3",
   "metadata": {},
   "outputs": [
    {
     "name": "stdout",
     "output_type": "stream",
     "text": [
      "I = 2.490070783046884\n"
     ]
    }
   ],
   "source": [
    "# Parameter :\n",
    "x_0 = 0; x_E = 2; n = 10; N = 201; pr=16;\n",
    "# Funktionen :\n",
    "def f(x):y = np.sqrt(x + np.sin(x)); return y; # Funktion welche modifiziert werden kann für gewünschte x/y Daten\n",
    "# Daten :\n",
    "x_data = np.linspace(x_0, x_E, N); # x-Daten welche modifiziert werden können\n",
    "y_data = f(x_data); # y-Daten welche modifiziert werden können\n",
    "# Funktionen :\n",
    "def TRAPZ_Vektor(y_data, x_data):\n",
    "    I = 0.5 * np.dot(np.diff(x_data), (y_data[1:] + y_data[0:-1])); # np.dot() -> Skalarprodukt\n",
    "    return I;\n",
    "\n",
    "I = TRAPZ_Vektor(y_data, x_data)\n",
    "print (f\"I = {I:#.{pr}g}\");"
   ]
  },
  {
   "cell_type": "markdown",
   "id": "8ba9ddc1",
   "metadata": {},
   "source": [
    "#### Trapez-Regel mit Numpy-Befehl"
   ]
  },
  {
   "cell_type": "code",
   "execution_count": 24,
   "id": "1cbe5abf",
   "metadata": {},
   "outputs": [
    {
     "name": "stdout",
     "output_type": "stream",
     "text": [
      "--------------------------------------------------\n",
      "I = 2.490070783046884 | N = 201 | n = 0\n",
      "I = 2.490260152603558 | N = 402 | n = 1\n",
      "I = 2.490326897146905 | N = 804 | n = 2\n",
      "I = 2.490350466364332 | N = 1608 | n = 3\n",
      "I = 2.490358796310514 | N = 3216 | n = 4\n",
      "I = 2.490361741357393 | N = 6432 | n = 5\n",
      "I = 2.490362782708113 | N = 12864 | n = 6\n",
      "I = 2.490363150933650 | N = 25728 | n = 7\n",
      "I = 2.490363281138151 | N = 51456 | n = 8\n",
      "I = 2.490363327177379 | N = 102912 | n = 9\n",
      "--------------------------------------------------\n",
      "I = 2.490363327177379\n",
      "--------------------------------------------------\n"
     ]
    }
   ],
   "source": [
    "# Parameter :\n",
    "x_0 = 0; x_E = 2; n = 10; N = 201; pr=16;\n",
    "# Funktionen :\n",
    "def f(x):y = np.sqrt(x + np.sin(x)); return y; # Funktion welche modifiziert werden kann für gewünschte x/y Daten\n",
    "# Berechnungen :\n",
    "print ('--------------------------------------------------');\n",
    "for k in range(0, n):\n",
    "    x_data = np.linspace(x_0, x_E, N); # x-Daten welche modifiziert werden können\n",
    "    f_data = f(x_data); # y-Daten welche modifiziert werden können\n",
    "    # Integration :\n",
    "    I = np.trapz(f_data, x_data);\n",
    "    print (f\"I = {I:#.16g} | N = {N:g} | n = {k:g}\");\n",
    "    N = 2 * N ;\n",
    "# Ausgabe :\n",
    "print ('--------------------------------------------------');\n",
    "print (f\"I = {I:#.{pr}g}\");\n",
    "print ('--------------------------------------------------');"
   ]
  },
  {
   "cell_type": "markdown",
   "id": "2a64a066",
   "metadata": {},
   "source": [
    "### Trapez-Regel und Extrapolation <a class=\"anchor\" id=\"Trapez-RegelundExtrapolation\"></a> [Back to top](#TableofContents)"
   ]
  },
  {
   "cell_type": "markdown",
   "id": "883d6d66",
   "metadata": {},
   "source": [
    "> Wir verbessern bei gleicher Genauigkeit die Effizienz der numerischen Integrationen aus vorherigem Abschnitt durch Schrittweiten-Extrapolation mit Python/Numpy."
   ]
  },
  {
   "cell_type": "code",
   "execution_count": 25,
   "id": "0e9d8eb6",
   "metadata": {},
   "outputs": [
    {
     "name": "stdout",
     "output_type": "stream",
     "text": [
      "--------------------------------------------------\n",
      "I = 2.490070783046884 | N = 201\n",
      "I = 2.490260152603558 | N = 402\n",
      "I = 2.490326897146905 | N = 804\n",
      "I = 2.490350466364332 | N = 1608\n",
      "I = 2.490358796310514 | N = 3216\n",
      "--------------------------------------------------\n",
      " I_raw = 2.490358796310514\n",
      " I_ext = 2.490364308312004\n",
      "--------------------------------------------------\n"
     ]
    }
   ],
   "source": [
    "# Parameter :\n",
    "x_0 = 0; x_E = 2; n = 5; N = 201; pr = 16;\n",
    "# Funktionen :\n",
    "def f(x): y = np.sqrt(x + np.sin(x)); return y; # Funktion welche modifiziert werden kann für gewünschte x/y Daten\n",
    "\n",
    "def NeAiNu(x_data, y_data):\n",
    "    n = np.size(y_data);\n",
    "    TAB = np.block([[y_data], [np.zeros((n-1, n))]]);\n",
    "    for i in range (1, n):\n",
    "        for j in range (i, n):\n",
    "            TAB[i][j]=(x_data[j]*TAB[i-1][j-1] - x_data[j-i]*TAB[i-1][j])/(x_data[j] - x_data[j - i]);\n",
    "    return TAB[n -1][n-1];\n",
    "# Berechnungen :\n",
    "print ('--------------------------------------------------');\n",
    "h_data = np.zeros(n);\n",
    "I_data = np.zeros(n);\n",
    "for k in range(0, n):\n",
    "    h =(x_E-x_0)/N ;\n",
    "    x_data = np.linspace(x_0, x_E, N); # x-Daten welche modifiziert werden können\n",
    "    f_data = f(x_data); # y-Daten welche modifiziert werden können\n",
    "    # Integration :\n",
    "    I = np.trapz(f_data, x_data);\n",
    "    h_data[k] = h;\n",
    "    I_data[k] = I;\n",
    "    print(f\"I = {I:#.16g} | N = {N:g}\");\n",
    "    N = 2* N ;\n",
    "I_raw = I_data[-1];\n",
    "I_ext = NeAiNu(h_data, I_data);\n",
    "# Ausgabe :\n",
    "print ('--------------------------------------------------');\n",
    "print ( f\" I_raw = {I_raw:#.{pr}g}\");\n",
    "print ( f\" I_ext = {I_ext:#.{pr}g}\");\n",
    "print ('--------------------------------------------------');"
   ]
  },
  {
   "cell_type": "markdown",
   "id": "1891bea3",
   "metadata": {},
   "source": [
    "### Simpson-Regel <a class=\"anchor\" id=\"Simpson-Regel\"></a> [Back to top](#TableofContents)"
   ]
  },
  {
   "cell_type": "code",
   "execution_count": 26,
   "id": "b7002706",
   "metadata": {},
   "outputs": [
    {
     "name": "stdout",
     "output_type": "stream",
     "text": [
      "--------------------------------------------------\n",
      "I = 2.490248540102071 | N = 201\n",
      "I = 2.490301307207030 | N = 402\n",
      "I = 2.490341457397927 | N = 804\n",
      "I = 2.490355618589249 | N = 1608\n",
      "I = 2.490360619340030 | N = 3216\n",
      "--------------------------------------------------\n",
      "I = 2.490360619340030\n",
      "--------------------------------------------------\n"
     ]
    }
   ],
   "source": [
    "# Parameter :\n",
    "x_0 = 0; x_E = 2; n = 5; N = 201; pr = 16;\n",
    "# Funktionen :\n",
    "def f(x): y = np.sqrt(x + np.sin(x)); return y; # Funktion welche modifiziert werden kann für gewünschte x/y Daten\n",
    "# Berechnungen :\n",
    "print('--------------------------------------------------');\n",
    "for k in range(0, n):\n",
    "    x_data = np.linspace(x_0, x_E, N); # x-Daten welche modifiziert werden können\n",
    "    f_data = f(x_data); # y-Daten welche modifiziert werden können\n",
    "    # Integration :\n",
    "    I = ig.simps(f_data, x_data);\n",
    "    print(f\"I = {I:#.16g} | N = {N:g}\");\n",
    "    N = 2* N ;\n",
    "# Ausgabe :\n",
    "print ('--------------------------------------------------');\n",
    "print (f\"I = {I:#.{pr}g}\");\n",
    "print ('--------------------------------------------------');"
   ]
  },
  {
   "cell_type": "markdown",
   "id": "cfe1dcf5",
   "metadata": {},
   "source": [
    "---"
   ]
  },
  {
   "cell_type": "markdown",
   "id": "34ff75cc",
   "metadata": {},
   "source": [
    "## Lineare Gleichungssysteme <a class=\"anchor\" id=\"LineareGleichungssysteme\"></a> [Back to top](#TableofContents)"
   ]
  },
  {
   "cell_type": "markdown",
   "id": "029ca0f0",
   "metadata": {},
   "source": [
    "### Gauss-Verfahren <a class=\"anchor\" id=\"Gauss-Verfahren\"></a> [Back to top](#TableofContents)"
   ]
  },
  {
   "cell_type": "markdown",
   "id": "488e1a4f",
   "metadata": {},
   "source": [
    "#### Ohne Spalten-Pivotisierung"
   ]
  },
  {
   "cell_type": "code",
   "execution_count": 4,
   "id": "12c33749",
   "metadata": {},
   "outputs": [
    {
     "name": "stdout",
     "output_type": "stream",
     "text": [
      "x = [ 1.  2. -0.]\n"
     ]
    }
   ],
   "source": [
    "# Parameter :\n",
    "A = np.array([[2, 3, 1], [1, -2, -1], [4, 1, -3]]);\n",
    "b = np.array([8, -3, 6]);\n",
    "pr = 16;\n",
    "# Funktionen :\n",
    "def LGLS_Gauss(A, b):\n",
    "    # Vorbereitungen :\n",
    "    G = 1.0*np.block([A, np.expand_dims(b, axis=1)]);\n",
    "    n = A.shape[0]; # Anzahl Zeilen\n",
    "    # Stufenform \n",
    "    for ps in range(0, n-1):\n",
    "        p = G[ps][ps];\n",
    "        for zz in range(ps+1, n):\n",
    "            f = G[zz][ps] / p;\n",
    "            G[zz][ps]= 0.;\n",
    "            for ss in range(ps+1, n+1):\n",
    "                G[zz][ss] = G[zz][ss] - f * G[ps][ss];\n",
    "    # Rueckwaertseinsetzen :\n",
    "    x = np.zeros(n); w = 0.;\n",
    "    for rr in range(n-1, -1, -1):\n",
    "        for ss in range(n-1, rr, -1):\n",
    "            w = x[ss] * G[rr][ss];\n",
    "        x[rr]=(G[rr][-1] - w) / G[rr][rr];\n",
    "    return x;\n",
    "# Berechnungen :\n",
    "x = LGLS_Gauss(A, b);\n",
    "# Ausgabe :\n",
    "print (f\"x = {x}\");\n",
    "#print (f\"x = {np.array2string(x, precision=pr)}\");"
   ]
  },
  {
   "cell_type": "markdown",
   "id": "7b4737b2",
   "metadata": {},
   "source": [
    "#### Mit Spalten-Pivotisierung"
   ]
  },
  {
   "cell_type": "code",
   "execution_count": 6,
   "id": "46a2b5fc",
   "metadata": {},
   "outputs": [
    {
     "name": "stdout",
     "output_type": "stream",
     "text": [
      "x = [1. 2. 0.]\n"
     ]
    }
   ],
   "source": [
    "# Parameter :\n",
    "A = np.array([[2, 3, 1], [1, -2, -1], [4, 1, -3]]);\n",
    "b = np.array([8, -3, 6]);\n",
    "pr = 16;\n",
    "# Funktionen :\n",
    "def LGLS_Gauss(A, b):\n",
    "    # Vorbereitungen :\n",
    "    G = 1.0*np.block([A, np.expand_dims(b, axis=1)]);\n",
    "    n = A.shape[0]; # Anzahl Zeilen\n",
    "    # Stufenform \n",
    "    for ps in range(0, n-1):\n",
    "        mm = ps + np.argmax(np.abs(G[range(ps, n), ps]));\n",
    "        if mm != ps:\n",
    "            tmp = np.copy(G[ps]);\n",
    "            G[ps] = G[mm];\n",
    "            G[mm] = tmp ;\n",
    "        p = G[ps][ps];\n",
    "        for zz in range(ps+1, n):\n",
    "            f = G[zz][ps] / p;\n",
    "            G[zz][ps]= 0.;\n",
    "            for ss in range(ps+1, n+1):\n",
    "                G[zz][ss] = G[zz][ss] - f * G[ps][ss];\n",
    "    # Rueckwaertseinsetzen :\n",
    "    x = np.zeros(n); w = 0.;\n",
    "    for rr in range(n-1, -1, -1):\n",
    "        for ss in range(n-1, rr, -1):\n",
    "            w = x[ss] * G[rr][ss];\n",
    "        x[rr]=(G[rr][-1] - w) / G[rr][rr];\n",
    "    return x;\n",
    "# Berechnungen :\n",
    "x = LGLS_Gauss(A, b);\n",
    "# Ausgabe :\n",
    "print (f\"x = {x}\");\n",
    "#print (f\"x = {np.array2string(x, precision=pr)}\");"
   ]
  },
  {
   "cell_type": "markdown",
   "id": "ab70caca",
   "metadata": {},
   "source": [
    "### Gauss-Jordan-Verfahren <a class=\"anchor\" id=\"Gauss-Jordan-Verfahren\"></a> [Back to top](#TableofContents)"
   ]
  },
  {
   "cell_type": "code",
   "execution_count": 10,
   "id": "1175fd97",
   "metadata": {},
   "outputs": [
    {
     "name": "stdout",
     "output_type": "stream",
     "text": [
      "H = \n",
      "[[ 1.          0.5         0.          1.          3.        ]\n",
      " [ 0.          0.          1.         -0.33333333  1.33333333]\n",
      " [ 0.          0.          0.          0.          0.        ]\n",
      " [ 0.          0.          0.          0.          0.        ]\n",
      " [ 0.          0.          0.          0.          0.        ]]\n"
     ]
    }
   ],
   "source": [
    "# Parameter :\n",
    "G = np.array([[2, 1, 0, 2, 6], [4, 2 ,3 ,3 ,16], [-2, -1, 6, -4, 2], [-8, -4, 9, -11, -12], [2, 1, -3, 3, 2]]);\n",
    "pr = 3;\n",
    "# Funktionen :\n",
    "def LGLS_rref(G, tol = -1):\n",
    "    # Berechnungen :\n",
    "    n_Z = G.shape[0];\n",
    "    n_S = G.shape[1];\n",
    "    if tol < 0:\n",
    "        tol = np.max(G.shape) * np.linalg.norm(G,ord = np.inf) * np.finfo(np.float64).eps;\n",
    "    # Stufenform berechnen :\n",
    "    pz = np.int_([]); ps = np.int_([]);\n",
    "    ez = 0; n_R = 0; m_Z = n_Z-1;\n",
    "    H = np.copy(1.0*G);\n",
    "    for es in range (0, n_S):\n",
    "        # Spalten -Pivot - Suche :\n",
    "        if ez < m_Z:\n",
    "            mm = ez + np.argmax(np.abs(H[range(ez, n_Z), es]));\n",
    "        else :\n",
    "            mm = m_Z;\n",
    "        if np.abs(H[mm][es]) > tol:\n",
    "            if mm != ez :\n",
    "                tmp = np.copy(H[ez]);\n",
    "                H[ez]= H[mm];\n",
    "                H[mm] = tmp;\n",
    "            # Division durch Pivot - Wert :\n",
    "            p = H[ez][es];\n",
    "            H[ez][es] = 1.0;\n",
    "            for jj in range(es+1, n_S):\n",
    "                H[ez][jj] = H[ez][jj] / p;\n",
    "            # Elimination vorwaerts :\n",
    "            for ii in range(ez+1, n_Z):\n",
    "                q = H[ii][es];\n",
    "                H[ii][es]=0.0;\n",
    "                for jj in range(es+1, n_S):\n",
    "                    H[ii][jj] = H[ii][jj] - q * H[ez][jj];\n",
    "            n_R = n_R+1;\n",
    "            pz = np.append(pz, ez);\n",
    "            ps = np.append(ps, es);\n",
    "            if ez == m_Z :\n",
    "                break;\n",
    "            ez = ez+1;\n",
    "        else:\n",
    "            for ii in range(ez, n_Z):\n",
    "                H[ii][es] = 0.0;\n",
    "    # Stufenform reduzieren :\n",
    "    for kk in range(n_R-1, -1, -1):\n",
    "        ez = pz[kk]; es = ps[kk];\n",
    "        # Elimination rueckwaerts :\n",
    "        for ii in range(ez-1, -1, -1):\n",
    "            q = H[ii][es];\n",
    "            H[ii][es]=0.0;\n",
    "            for jj in range(es+1, n_S):\n",
    "                H[ii][jj] = H[ii][jj] - q * H[ez][jj];\n",
    "    return H;\n",
    "# Berechnungen :\n",
    "H = LGLS_rref(G);\n",
    "# Ausgabe :\n",
    "print (f\"H = \\n{H}\");\n",
    "#print(f\"H = \\n{np.array2string(H, precision = pr)}\");"
   ]
  },
  {
   "cell_type": "markdown",
   "id": "3235a122",
   "metadata": {},
   "source": [
    "### LR-Zerlegungen von Matrizen <a class=\"anchor\" id=\"LR-ZerlegungenvonMatrizen\"></a> [Back to top](#TableofContents)"
   ]
  },
  {
   "cell_type": "markdown",
   "id": "14b81245",
   "metadata": {},
   "source": [
    "#### 3-D"
   ]
  },
  {
   "cell_type": "code",
   "execution_count": 18,
   "id": "5a74c660",
   "metadata": {},
   "outputs": [
    {
     "name": "stdout",
     "output_type": "stream",
     "text": [
      "P = \n",
      "[[0. 0. 1.]\n",
      " [0. 1. 0.]\n",
      " [1. 0. 0.]]\n",
      "\n",
      "L = \n",
      "[[ 1.     0.     0.   ]\n",
      " [ 0.333  1.     0.   ]\n",
      " [ 0.667 -1.     1.   ]]\n",
      "\n",
      "R = \n",
      "[[ 3.     5.     1.   ]\n",
      " [ 0.     0.333 -1.333]\n",
      " [ 0.     0.    -1.   ]]\n"
     ]
    }
   ],
   "source": [
    "A = np.array([[2,3,1],[1,2,-1],[3,5,1]]); # Matrix welche gelöst werden soll\n",
    "pr=3;\n",
    "# Berechnungen :\n",
    "[P, L, R]= cp.linalg.lu(A);\n",
    "# Ausgabe :\n",
    "with np.printoptions(precision = pr):\n",
    "    print (f\"P = \\n{P}\\n\\nL = \\n{L}\\n\\nR = \\n{R}\");"
   ]
  },
  {
   "cell_type": "markdown",
   "id": "c772af48",
   "metadata": {},
   "source": [
    "### QR-Zerlegungen von Matrizen <a class=\"anchor\" id=\"QR-ZerlegungenvonMatrizen\"></a> [Back to top](#TableofContents)"
   ]
  },
  {
   "cell_type": "markdown",
   "id": "72d5b5a6",
   "metadata": {},
   "source": [
    "#### 2-D"
   ]
  },
  {
   "cell_type": "code",
   "execution_count": 19,
   "id": "dae3e12b",
   "metadata": {},
   "outputs": [
    {
     "name": "stdout",
     "output_type": "stream",
     "text": [
      "A = \n",
      "[[3 1]\n",
      " [6 9]]\n",
      "\n",
      "Q = \n",
      "[[-0.447 -0.894]\n",
      " [-0.894  0.447]]\n",
      "\n",
      "R = \n",
      "[[-6.708 -8.497]\n",
      " [ 0.     3.13 ]]\n"
     ]
    }
   ],
   "source": [
    "# Parameter :\n",
    "A = np.array([[3,1],[6,9]]); pr=3;\n",
    "# Berechnungen :\n",
    "[Q, R] = cp.linalg.qr(A);\n",
    "#[Q, R] = np.linalg.qr(A); # numpy\n",
    "# Ausgabe :\n",
    "with np.printoptions(precision=pr):\n",
    "    print(f\"A = \\n{A}\\n\");\n",
    "    print(f\"Q = \\n{Q}\\n\\nR = \\n{R}\");"
   ]
  },
  {
   "cell_type": "markdown",
   "id": "78f934bd",
   "metadata": {},
   "source": [
    "#### 3-D"
   ]
  },
  {
   "cell_type": "code",
   "execution_count": 20,
   "id": "b4faf1ec",
   "metadata": {},
   "outputs": [
    {
     "name": "stdout",
     "output_type": "stream",
     "text": [
      "A = \n",
      "[[  2   1 -10]\n",
      " [ -1   4   5]\n",
      " [  2  10   8]]\n",
      "\n",
      "Q = \n",
      "[[-0.667  0.333 -0.667]\n",
      " [ 0.333 -0.667 -0.667]\n",
      " [-0.667 -0.667  0.333]]\n",
      "\n",
      "R = \n",
      "[[ -3.  -6.   3.]\n",
      " [  0.  -9. -12.]\n",
      " [  0.   0.   6.]]\n"
     ]
    }
   ],
   "source": [
    "# Parameter :\n",
    "A = np.array([[2,1,-10],[-1,4,5],[2,10,8]]); pr=3;\n",
    "# Berechnungen :\n",
    "[Q, R] = cp.linalg.qr(A); # scipy\n",
    "#[Q, R] = np.linalg.qr(A); # numpy\n",
    "# Ausgabe :\n",
    "with np.printoptions(precision=pr):\n",
    "    print(f\"A = \\n{A}\\n\");\n",
    "    print(f\"Q = \\n{Q}\\n\\nR = \\n{R}\");"
   ]
  },
  {
   "cell_type": "markdown",
   "id": "38f7a44e",
   "metadata": {},
   "source": [
    "### Hilbert-LGLS <a class=\"anchor\" id=\"Hilbert-LGLS\"></a> [Back to top](#TableofContents)"
   ]
  },
  {
   "cell_type": "markdown",
   "id": "05c3d35f",
   "metadata": {},
   "source": [
    "#### Matrix generieren"
   ]
  },
  {
   "cell_type": "code",
   "execution_count": 10,
   "id": "28475c55",
   "metadata": {},
   "outputs": [
    {
     "data": {
      "text/plain": [
       "(array([[1.        , 0.5       , 0.33333333, 0.25      , 0.2       ],\n",
       "        [0.5       , 0.33333333, 0.25      , 0.2       , 0.16666667],\n",
       "        [0.33333333, 0.25      , 0.2       , 0.16666667, 0.14285714],\n",
       "        [0.25      , 0.2       , 0.16666667, 0.14285714, 0.125     ],\n",
       "        [0.2       , 0.16666667, 0.14285714, 0.125     , 0.11111111]]),\n",
       " array([2.28333333, 1.45      , 1.09285714, 0.88452381, 0.74563492]))"
      ]
     },
     "execution_count": 10,
     "metadata": {},
     "output_type": "execute_result"
    }
   ],
   "source": [
    "# Parameter:\n",
    "n=5; pr_a=4; pr_b=3;\n",
    "# Funktionen:\n",
    "def LGLS_Hilbert(n):\n",
    "    k_data=np.r_[1:n+1];\n",
    "    [i_grid,j_grid]=np.meshgrid(k_data,k_data);\n",
    "    A=1./(i_grid+j_grid-1);\n",
    "    b=np.sum(A,axis=1);\n",
    "    return A,b;\n",
    "\n",
    "LGLS_Hilbert(n)"
   ]
  },
  {
   "cell_type": "markdown",
   "id": "da4250d3",
   "metadata": {},
   "source": [
    "#### Hilbert-LGLS lösen"
   ]
  },
  {
   "cell_type": "code",
   "execution_count": 11,
   "id": "d7dbcdd8",
   "metadata": {},
   "outputs": [
    {
     "name": "stdout",
     "output_type": "stream",
     "text": [
      "G = \n",
      "[[1.     0.5    0.3333 0.25   0.2    2.2833]\n",
      " [0.5    0.3333 0.25   0.2    0.1667 1.45  ]\n",
      " [0.3333 0.25   0.2    0.1667 0.1429 1.0929]\n",
      " [0.25   0.2    0.1667 0.1429 0.125  0.8845]\n",
      " [0.2    0.1667 0.1429 0.125  0.1111 0.7456]]\n",
      "\n",
      "x = \n",
      "[1. 1. 1. 1. 1.]\n",
      "\n",
      "C = 4.77e+05\n",
      "\n",
      "D = 3.75e-12\n",
      "\n"
     ]
    }
   ],
   "source": [
    "[A,b]=LGLS_Hilbert(n);\n",
    "G=np.block([A,np.expand_dims(b,axis=1)]);\n",
    "x=np.linalg.solve(A,b);\n",
    "C=np.linalg.cond(A);\n",
    "D=np.linalg.det(A);\n",
    "# Ausgabe:\n",
    "with np.printoptions(precision=pr_a):\n",
    "    print(f\"G = \\n{G}\\n\");\n",
    "    print(f\"x = \\n{x}\\n\");\n",
    "print(f\"C = {C:#.{pr_b}g}\\n\");\n",
    "print(f\"D = {D:#.{pr_b}g}\\n\");"
   ]
  },
  {
   "cell_type": "markdown",
   "id": "f1b1f2d6",
   "metadata": {},
   "source": [
    "### LGLS iterativ lösen <a class=\"anchor\" id=\"LGLSiterativlösen\"></a> [Back to top](#TableofContents)"
   ]
  },
  {
   "cell_type": "markdown",
   "id": "64667bc5",
   "metadata": {},
   "source": [
    "#### Jacobi-Verfahren"
   ]
  },
  {
   "cell_type": "code",
   "execution_count": 37,
   "id": "4b59e103",
   "metadata": {},
   "outputs": [
    {
     "name": "stdout",
     "output_type": "stream",
     "text": [
      "Iteration :\n",
      "x_0 =  [ 8. 10. 12.]\n",
      "x_96 = [1.                 1.9999999999999998 3.                ]\n",
      "-------------------------------------------------------------------\n",
      "Loesung : x = [1. 2. 3.]\n",
      "Norm :    y = 0.82\n"
     ]
    }
   ],
   "source": [
    "# Parameter :\n",
    "A = np.array([[3.,1.,1.],[1.,3.,1.],[1.,1.,3.]]);\n",
    "b = np.array([8.,10.,12.]);\n",
    "N = 100; pr_x = 3; pr_y = 2; pr_t = 16; n = np.shape(b)[0]; # Anzahl Zeilen\n",
    "# Vorbereitungen :\n",
    "H = np.diag (1/np.diag(A));\n",
    "M = np.eye(n)-H@A;\n",
    "y = np.linalg.norm(M);\n",
    "q = H@b; x = b; w = 0.; k = 0;\n",
    "# Funktionen :\n",
    "def f(x): y = M@x + q; return y;\n",
    "# Berechnungen :\n",
    "print('Iteration :');\n",
    "print(f\"x_{k} =  {x}\")\n",
    "while np.array_equal(x, w) == False and k < N:\n",
    "    w = x;\n",
    "    k += 1;\n",
    "    x = f(x);\n",
    "print(f\"x_{k} = {np.array2string(x, precision = pr_t)}\"); # Nur letze Iteration ausgeben (ansonsten -> print-Statement in While-Schlaufe einfügen)\n",
    "# Ausgabe :\n",
    "print(\"-------------------------------------------------------------------\")\n",
    "print(f\"Loesung : x = {np. array2string(x, precision = pr_x )}\");\n",
    "print(f\"Norm :    y = {y :#.{pr_y}g}\");"
   ]
  },
  {
   "cell_type": "markdown",
   "id": "b3d9f8da",
   "metadata": {},
   "source": [
    "#### Richardson-Verfahren"
   ]
  },
  {
   "cell_type": "code",
   "execution_count": 38,
   "id": "77147d87",
   "metadata": {},
   "outputs": [
    {
     "name": "stdout",
     "output_type": "stream",
     "text": [
      "Iteration :\n",
      "x_0 =  [ 8. 10. 12.]\n",
      "x_54 = [1. 2. 3.]\n",
      "-------------------------------------------------------------------\n",
      "Loesung : x = [1. 2. 3.]\n",
      "Norm :    y = 0.75\n"
     ]
    }
   ],
   "source": [
    "# Parameter :\n",
    "A = np.array([[3.,1.,1.],[1.,3.,1.],[1.,1.,3.]]);\n",
    "b = np.array([8.,10.,12.]);\n",
    "s = 0.25; N = 100; pr_x = 3; pr_y = 2; pr_t = 16; n = np.shape(b)[0];\n",
    "# Vorbereitungen :\n",
    "H = s*np.eye(n);\n",
    "M = np.eye(n) - H@A;\n",
    "y = np.linalg.norm(M);\n",
    "q = H@b; x = b; w = 0.; k = 0;\n",
    "# Funktionen :\n",
    "def f(x): y = M@x + q; return y;\n",
    "# Berechnungen :\n",
    "print('Iteration :');\n",
    "print(f\"x_{k} =  {x}\")\n",
    "while np.array_equal(x, w) == False and k < N:\n",
    "    w = x;\n",
    "    k += 1;\n",
    "    x = f(x);\n",
    "print(f\"x_{k} = {np.array2string(x, precision = pr_t)}\"); # Nur letze Iteration ausgeben (ansonsten -> print-Statement in While-Schlaufe einfügen)\n",
    "# Ausgabe :\n",
    "print(\"-------------------------------------------------------------------\")\n",
    "print(f\"Loesung : x = {np. array2string(x, precision = pr_x )}\");\n",
    "print(f\"Norm :    y = {y :#.{pr_y}g}\");"
   ]
  },
  {
   "cell_type": "markdown",
   "id": "996a06fb",
   "metadata": {},
   "source": [
    "---"
   ]
  },
  {
   "cell_type": "markdown",
   "id": "6d2ba146",
   "metadata": {},
   "source": [
    "^ [Back to top](#TableofContents) ^"
   ]
  },
  {
   "cell_type": "markdown",
   "id": "f74da4d4",
   "metadata": {},
   "source": [
    "Ende des Cheatsheets 🙃"
   ]
  }
 ],
 "metadata": {
  "kernelspec": {
   "display_name": "Python 3 (ipykernel)",
   "language": "python",
   "name": "python3"
  },
  "language_info": {
   "codemirror_mode": {
    "name": "ipython",
    "version": 3
   },
   "file_extension": ".py",
   "mimetype": "text/x-python",
   "name": "python",
   "nbconvert_exporter": "python",
   "pygments_lexer": "ipython3",
   "version": "3.8.12"
  }
 },
 "nbformat": 4,
 "nbformat_minor": 5
}
